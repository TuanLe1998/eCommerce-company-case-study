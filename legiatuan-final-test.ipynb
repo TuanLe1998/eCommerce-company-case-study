{
 "cells": [
  {
   "cell_type": "code",
   "execution_count": 182,
   "metadata": {},
   "outputs": [],
   "source": [
    "import numpy as np\n",
    "import pandas as pd\n",
    "import matplotlib.pyplot as plt\n",
    "import seaborn as sns\n",
    "import matplotlib\n",
    "import warnings\n",
    "warnings.filterwarnings('ignore')\n",
    "matplotlib.rcParams['font.size'] = 14\n",
    "matplotlib.rcParams['figure.figsize'] = (9,5)\n",
    "matplotlib.rcParams['figure.facecolor'] = '#00000000'\n",
    "plt.style.use('ggplot')"
   ]
  },
  {
   "cell_type": "markdown",
   "metadata": {},
   "source": [
    "# Table of contents"
   ]
  },
  {
   "cell_type": "markdown",
   "metadata": {},
   "source": [
    "1. [ Dataset Background and Project Goal](#first-bullet)\n",
    "2. [ Creating ER diagram for the datasets](#second-bullet)\n",
    "3. [ Importing and cleaning data](#third-bullet)\n",
    "4. [ EDA](#fourth-bullet)\n",
    "5. [ Conclusion](#fifth-bullet)"
   ]
  },
  {
   "cell_type": "markdown",
   "metadata": {},
   "source": [
    "# Background <a class=\"anchor\" id=\"first-bullet\"></a>"
   ]
  },
  {
   "cell_type": "markdown",
   "metadata": {},
   "source": [
    "Bạn là một Data Analyst làm việc cho một công ty thương mại điện tử tên là X. Bạn được giao nhiệm vụ chuẩn bị một bài thuyết trình để trình bày tổng quan tình hình kinh doanh và vận hành của công ty tính đến thời điểm hiện tại cho Giám đốc bán hàng và Giám đốc vận hành. Bài thuyết trình tối thiểu phải bao gồm các thông tin sau: tổng quan tình hình kinh doanh, mức độ hài lòng của khách hàng, và đề xuất 2 đến 3 lĩnh vực (areas) mà công ty có thể cải thiện. \n",
    "\n",
    "Một số thông tin bổ sung cho case study:\n",
    "Vì chỉ có dữ liệu đến năm 2018, nên ta sẽ giả sử hiện tại đang là tháng 9 năm 2018 (các dữ liệu sau tháng 9/2018 bạn có thể bỏ qua)\n",
    "Công ty có trụ sở tại Mỹ, tuy nhiên được thành lập ở Brazil (đó là lý do vì sao một số thông tin được viết bằng tiếng Bồ Đào Nha)"
   ]
  },
  {
   "cell_type": "markdown",
   "metadata": {},
   "source": [
    "# Creating ER diagram for the datasets <a class=\"anchor\" id=\"second-bullet\"></a>"
   ]
  },
  {
   "cell_type": "markdown",
   "metadata": {},
   "source": [
    "#### After reading the document I managed to draw the ER diagram for the datasets"
   ]
  },
  {
   "cell_type": "markdown",
   "metadata": {},
   "source": [
    "- The customers table is the dim table contains information about each customers. It connects to the orders table with an one-to-many relationship\n",
    "- The orders table is the main (fact) table that we will be focusing on. It connects to three other tables with an one-to-many relationship: orders_reviews, order_payments and order_items\n",
    "- The products table connects to the order_items table with a connection of one-to-many\n",
    "- Finally, the product_category_name_translation is a weak-entity, it cannot exist without the products table. It connects to the products table.\n"
   ]
  },
  {
   "cell_type": "markdown",
   "metadata": {},
   "source": [
    "<img src=\"ER_diagram.png\">"
   ]
  },
  {
   "cell_type": "markdown",
   "metadata": {},
   "source": [
    "# Importing and cleaning data <a class=\"anchor\" id=\"third-bullet\"></a>"
   ]
  },
  {
   "cell_type": "code",
   "execution_count": 2,
   "metadata": {},
   "outputs": [],
   "source": [
    "orders = pd.read_csv('orders_dataset.csv')\n",
    "order_items = pd.read_csv('order_items_dataset.csv')\n",
    "order_payments = pd.read_csv('order_payments_dataset.csv')\n",
    "products = pd.read_csv('products_dataset.csv')\n",
    "product_category_name_translation = pd.read_csv('product_category_name_translation.csv')\n",
    "orders_reviews = pd.read_csv('order_reviews_dataset.csv')\n",
    "customers = pd.read_csv('customers_dataset.csv')"
   ]
  },
  {
   "cell_type": "code",
   "execution_count": 3,
   "metadata": {},
   "outputs": [],
   "source": [
    "## Function to convert column to datetime dtype\n",
    "def datetime_convert(columns, df):\n",
    "    df[columns] = \\\n",
    "    df[columns].apply(pd.to_datetime, format='%Y-%m-%d %H:%M:%S.%f')"
   ]
  },
  {
   "cell_type": "markdown",
   "metadata": {},
   "source": [
    "#### <font color = '#ffc453'>The customers table</font>"
   ]
  },
  {
   "cell_type": "code",
   "execution_count": 4,
   "metadata": {},
   "outputs": [
    {
     "name": "stdout",
     "output_type": "stream",
     "text": [
      "<class 'pandas.core.frame.DataFrame'>\n",
      "RangeIndex: 99441 entries, 0 to 99440\n",
      "Data columns (total 5 columns):\n",
      " #   Column                    Non-Null Count  Dtype \n",
      "---  ------                    --------------  ----- \n",
      " 0   customer_id               99441 non-null  object\n",
      " 1   customer_unique_id        99441 non-null  object\n",
      " 2   customer_zip_code_prefix  99441 non-null  int64 \n",
      " 3   customer_city             99441 non-null  object\n",
      " 4   customer_state            99441 non-null  object\n",
      "dtypes: int64(1), object(4)\n",
      "memory usage: 3.8+ MB\n"
     ]
    }
   ],
   "source": [
    "customers.info()"
   ]
  },
  {
   "cell_type": "markdown",
   "metadata": {},
   "source": [
    "#### <font color = '#ffc453'>The orders table</font>"
   ]
  },
  {
   "cell_type": "code",
   "execution_count": 5,
   "metadata": {},
   "outputs": [],
   "source": [
    "datetime_convert(\\\n",
    "    ['order_purchase_timestamp','order_approved_at','order_delivered_carrier_date','order_delivered_customer_date','order_estimated_delivery_date'],orders)"
   ]
  },
  {
   "cell_type": "code",
   "execution_count": 6,
   "metadata": {},
   "outputs": [
    {
     "name": "stdout",
     "output_type": "stream",
     "text": [
      "<class 'pandas.core.frame.DataFrame'>\n",
      "RangeIndex: 99441 entries, 0 to 99440\n",
      "Data columns (total 8 columns):\n",
      " #   Column                         Non-Null Count  Dtype         \n",
      "---  ------                         --------------  -----         \n",
      " 0   order_id                       99441 non-null  object        \n",
      " 1   customer_id                    99441 non-null  object        \n",
      " 2   order_status                   99441 non-null  object        \n",
      " 3   order_purchase_timestamp       99441 non-null  datetime64[ns]\n",
      " 4   order_approved_at              99281 non-null  datetime64[ns]\n",
      " 5   order_delivered_carrier_date   97658 non-null  datetime64[ns]\n",
      " 6   order_delivered_customer_date  96476 non-null  datetime64[ns]\n",
      " 7   order_estimated_delivery_date  99441 non-null  datetime64[ns]\n",
      "dtypes: datetime64[ns](5), object(3)\n",
      "memory usage: 6.1+ MB\n"
     ]
    }
   ],
   "source": [
    "orders.info()"
   ]
  },
  {
   "cell_type": "code",
   "execution_count": 7,
   "metadata": {},
   "outputs": [
    {
     "data": {
      "text/plain": [
       "True"
      ]
     },
     "execution_count": 7,
     "metadata": {},
     "output_type": "execute_result"
    }
   ],
   "source": [
    "orders.customer_id.nunique() == orders.order_id.nunique()"
   ]
  },
  {
   "cell_type": "markdown",
   "metadata": {},
   "source": [
    "Because customers and orders tables have a relationship of one-to-many. Means that one customers can have more than one orders. \n",
    "- The primary key of customers table is customer_id and have unique value counts of 99441\n",
    "- The primary key of orders table is order_id and have unique value counts of 99441, the foreign key of order_id table is customer_id and have unique value counts of 99441.\n",
    "<br>=> From this we can conclude that each customers appear in the datasets made exactly 1 order."
   ]
  },
  {
   "cell_type": "markdown",
   "metadata": {},
   "source": [
    "#### <font color = '#ffc453'> The orders_reviews table </font>"
   ]
  },
  {
   "cell_type": "code",
   "execution_count": 8,
   "metadata": {},
   "outputs": [],
   "source": [
    "datetime_convert(['review_creation_date','review_answer_timestamp'],orders_reviews)"
   ]
  },
  {
   "cell_type": "code",
   "execution_count": 9,
   "metadata": {},
   "outputs": [
    {
     "name": "stdout",
     "output_type": "stream",
     "text": [
      "<class 'pandas.core.frame.DataFrame'>\n",
      "RangeIndex: 100000 entries, 0 to 99999\n",
      "Data columns (total 7 columns):\n",
      " #   Column                   Non-Null Count   Dtype         \n",
      "---  ------                   --------------   -----         \n",
      " 0   review_id                100000 non-null  object        \n",
      " 1   order_id                 100000 non-null  object        \n",
      " 2   review_score             100000 non-null  int64         \n",
      " 3   review_comment_title     11715 non-null   object        \n",
      " 4   review_comment_message   41753 non-null   object        \n",
      " 5   review_creation_date     100000 non-null  datetime64[ns]\n",
      " 6   review_answer_timestamp  100000 non-null  datetime64[ns]\n",
      "dtypes: datetime64[ns](2), int64(1), object(4)\n",
      "memory usage: 5.3+ MB\n"
     ]
    }
   ],
   "source": [
    "orders_reviews.info()"
   ]
  },
  {
   "cell_type": "code",
   "execution_count": 10,
   "metadata": {},
   "outputs": [
    {
     "data": {
      "text/plain": [
       "99441"
      ]
     },
     "execution_count": 10,
     "metadata": {},
     "output_type": "execute_result"
    }
   ],
   "source": [
    "orders_reviews.order_id.nunique()"
   ]
  },
  {
   "cell_type": "markdown",
   "metadata": {},
   "source": [
    "- All orders appear in the orders_reviews table"
   ]
  },
  {
   "cell_type": "markdown",
   "metadata": {},
   "source": [
    "#### <font color = '#ffc453'> The orders_items table </font>"
   ]
  },
  {
   "cell_type": "code",
   "execution_count": 11,
   "metadata": {},
   "outputs": [
    {
     "name": "stdout",
     "output_type": "stream",
     "text": [
      "<class 'pandas.core.frame.DataFrame'>\n",
      "RangeIndex: 112650 entries, 0 to 112649\n",
      "Data columns (total 6 columns):\n",
      " #   Column         Non-Null Count   Dtype  \n",
      "---  ------         --------------   -----  \n",
      " 0   order_id       112650 non-null  object \n",
      " 1   order_item_id  112650 non-null  int64  \n",
      " 2   product_id     112650 non-null  object \n",
      " 3   seller_id      112650 non-null  object \n",
      " 4   price          112650 non-null  float64\n",
      " 5   freight_value  112650 non-null  float64\n",
      "dtypes: float64(2), int64(1), object(3)\n",
      "memory usage: 5.2+ MB\n"
     ]
    }
   ],
   "source": [
    "order_items.info()"
   ]
  },
  {
   "cell_type": "code",
   "execution_count": 12,
   "metadata": {},
   "outputs": [
    {
     "data": {
      "text/plain": [
       "98666"
      ]
     },
     "execution_count": 12,
     "metadata": {},
     "output_type": "execute_result"
    }
   ],
   "source": [
    "order_items.order_id.nunique()"
   ]
  },
  {
   "cell_type": "markdown",
   "metadata": {},
   "source": [
    "=> Some orders does not appear in this table. Since this is an important table (we need to find the number of items sold and profits,... etc). We will only analyse the orders that appear in this table.\n",
    "\n",
    "For example: order 1,2,3,4,5 appear in orders table\n",
    "<br>Only order 1,2,3,4 appear in order_items table\n",
    "=> Exclude order 5 from the analysis"
   ]
  },
  {
   "cell_type": "markdown",
   "metadata": {},
   "source": [
    "You may ask why? Because if we don't this can lead to some faults in the analysis. For example some metrics such as Average Revenue Per Order will be wrong.\n",
    "Still the same example as above, 4 orders appear in the order_items table generates a total revenue of 500.\n",
    "- If we don't exlude the missing order => Average Revenue Per Order = 500/5 = 100 (this is wrong)\n",
    "- In reality, the Average Revenue Per Order is only: 500/4 = 125. Don't have any informations regarding the revenue made by the order 5, so it's wrong if we conclude that it made only 0$."
   ]
  },
  {
   "cell_type": "markdown",
   "metadata": {},
   "source": [
    "#### <font color = '#ffc453'> The orders_payments table </font>"
   ]
  },
  {
   "cell_type": "code",
   "execution_count": 13,
   "metadata": {},
   "outputs": [
    {
     "name": "stdout",
     "output_type": "stream",
     "text": [
      "<class 'pandas.core.frame.DataFrame'>\n",
      "RangeIndex: 103886 entries, 0 to 103885\n",
      "Data columns (total 5 columns):\n",
      " #   Column                Non-Null Count   Dtype  \n",
      "---  ------                --------------   -----  \n",
      " 0   order_id              103886 non-null  object \n",
      " 1   payment_sequential    103886 non-null  int64  \n",
      " 2   payment_type          103886 non-null  object \n",
      " 3   payment_installments  103886 non-null  int64  \n",
      " 4   payment_value         103886 non-null  float64\n",
      "dtypes: float64(1), int64(2), object(2)\n",
      "memory usage: 4.0+ MB\n"
     ]
    }
   ],
   "source": [
    "order_payments.info()"
   ]
  },
  {
   "cell_type": "code",
   "execution_count": 14,
   "metadata": {},
   "outputs": [
    {
     "data": {
      "text/plain": [
       "99440"
      ]
     },
     "execution_count": 14,
     "metadata": {},
     "output_type": "execute_result"
    }
   ],
   "source": [
    "order_payments.order_id.nunique()"
   ]
  },
  {
   "cell_type": "markdown",
   "metadata": {},
   "source": [
    "=> Some orders does not appear in this table. Since this is an important table (we need to find payment value of each orders). We will only analyse the orders that appear in this table."
   ]
  },
  {
   "cell_type": "markdown",
   "metadata": {},
   "source": [
    "=> Let's filter the order_payments table, order_items table, order_reviews, orders table to only include order_id appear in both order_payments and order_items"
   ]
  },
  {
   "cell_type": "code",
   "execution_count": 15,
   "metadata": {},
   "outputs": [],
   "source": [
    "# we'll use the inner join method to take the intersection between order_payments and order_items\n",
    "order_payments = order_payments.merge(order_items, how='inner', on ='order_id')[order_payments.columns]\n",
    "# since order_payments and order_items have different number of rows for the same order_id dimension => there'll be duplicated rows when we use this method. Since we can fetch\n",
    "# all rows in the order_payments table by 2 columns (order_id, payment_sequential), we will drop duplicate on these 2 subsets to prevent duplicate rows.\n",
    "order_payments.drop_duplicates(subset = ['order_id','payment_sequential'], inplace=True)"
   ]
  },
  {
   "cell_type": "code",
   "execution_count": 16,
   "metadata": {},
   "outputs": [
    {
     "data": {
      "text/plain": [
       "98665"
      ]
     },
     "execution_count": 16,
     "metadata": {},
     "output_type": "execute_result"
    }
   ],
   "source": [
    "order_payments.order_id.nunique()"
   ]
  },
  {
   "cell_type": "code",
   "execution_count": 17,
   "metadata": {},
   "outputs": [],
   "source": [
    "# we'll use the inner join method to take the intersection between order_items and newly created order_payments table (then drop_duplicates on prime attributes)\n",
    "order_items = order_items.merge(order_payments, how='inner', on = 'order_id')[order_items.columns].\\\n",
    "    drop_duplicates(subset = ['order_id','order_item_id'])"
   ]
  },
  {
   "cell_type": "code",
   "execution_count": 18,
   "metadata": {},
   "outputs": [],
   "source": [
    "# we'll use the inner join method to take the intersection between orders_reviews and newly created order_payments table (then drop_duplicates on prime attributes)\n",
    "orders_reviews = orders_reviews.merge(order_payments, how='inner', on = 'order_id')[orders_reviews.columns].\\\n",
    "    drop_duplicates(subset = ['review_id','order_id'])"
   ]
  },
  {
   "cell_type": "code",
   "execution_count": 19,
   "metadata": {},
   "outputs": [],
   "source": [
    "# we'll use the inner join method to take the intersection between orders and newly created order_payments table (then drop_duplicates on prime attributes)\n",
    "orders = orders.merge(order_payments, how='inner', on = 'order_id')[orders.columns].\\\n",
    "    drop_duplicates(subset = 'order_id')"
   ]
  },
  {
   "cell_type": "code",
   "execution_count": 20,
   "metadata": {},
   "outputs": [
    {
     "data": {
      "text/plain": [
       "True"
      ]
     },
     "execution_count": 20,
     "metadata": {},
     "output_type": "execute_result"
    }
   ],
   "source": [
    "orders.order_id.nunique() == order_items.order_id.nunique() == orders_reviews.order_id.nunique() == order_payments.order_id.nunique()"
   ]
  },
  {
   "cell_type": "markdown",
   "metadata": {},
   "source": [
    "=> Great! Now all 4 tables have the same order_id"
   ]
  },
  {
   "cell_type": "markdown",
   "metadata": {},
   "source": [
    "#### <font color = '#ffc453'> The products table </font>"
   ]
  },
  {
   "cell_type": "code",
   "execution_count": 21,
   "metadata": {},
   "outputs": [
    {
     "name": "stdout",
     "output_type": "stream",
     "text": [
      "<class 'pandas.core.frame.DataFrame'>\n",
      "RangeIndex: 32951 entries, 0 to 32950\n",
      "Data columns (total 9 columns):\n",
      " #   Column                      Non-Null Count  Dtype  \n",
      "---  ------                      --------------  -----  \n",
      " 0   product_id                  32951 non-null  object \n",
      " 1   product_category_name       32341 non-null  object \n",
      " 2   product_name_lenght         32341 non-null  float64\n",
      " 3   product_description_lenght  32341 non-null  float64\n",
      " 4   product_photos_qty          32341 non-null  float64\n",
      " 5   product_weight_g            32949 non-null  float64\n",
      " 6   product_length_cm           32949 non-null  float64\n",
      " 7   product_height_cm           32949 non-null  float64\n",
      " 8   product_width_cm            32949 non-null  float64\n",
      "dtypes: float64(7), object(2)\n",
      "memory usage: 2.3+ MB\n"
     ]
    }
   ],
   "source": [
    "products.info()"
   ]
  },
  {
   "cell_type": "code",
   "execution_count": 22,
   "metadata": {},
   "outputs": [
    {
     "data": {
      "text/plain": [
       "73"
      ]
     },
     "execution_count": 22,
     "metadata": {},
     "output_type": "execute_result"
    }
   ],
   "source": [
    "products.product_category_name.nunique()"
   ]
  },
  {
   "cell_type": "markdown",
   "metadata": {},
   "source": [
    "Keep all the rows in this table even if it contains null values. Too much rows to be ignored if we dropna. The only things we care about in this table is product_id and product_category_name. For data visualisation/analysis we will have NULL product_category_name as a seperate segment rather than ignoring it."
   ]
  },
  {
   "cell_type": "markdown",
   "metadata": {},
   "source": [
    "#### <font color = '#ffc453'> The product_category_name_translation table </font>"
   ]
  },
  {
   "cell_type": "code",
   "execution_count": 23,
   "metadata": {},
   "outputs": [
    {
     "name": "stdout",
     "output_type": "stream",
     "text": [
      "<class 'pandas.core.frame.DataFrame'>\n",
      "RangeIndex: 71 entries, 0 to 70\n",
      "Data columns (total 2 columns):\n",
      " #   Column                         Non-Null Count  Dtype \n",
      "---  ------                         --------------  ----- \n",
      " 0   product_category_name          71 non-null     object\n",
      " 1   product_category_name_english  71 non-null     object\n",
      "dtypes: object(2)\n",
      "memory usage: 1.2+ KB\n"
     ]
    }
   ],
   "source": [
    "product_category_name_translation.info()"
   ]
  },
  {
   "cell_type": "code",
   "execution_count": 24,
   "metadata": {},
   "outputs": [
    {
     "data": {
      "text/plain": [
       "71"
      ]
     },
     "execution_count": 24,
     "metadata": {},
     "output_type": "execute_result"
    }
   ],
   "source": [
    "product_category_name_translation.product_category_name.nunique()"
   ]
  },
  {
   "cell_type": "markdown",
   "metadata": {},
   "source": [
    "There are some product category names not appear in this table. For these categories we will keep the original category names."
   ]
  },
  {
   "cell_type": "code",
   "execution_count": 25,
   "metadata": {},
   "outputs": [],
   "source": [
    "### Try to set the new index to the product_category_name_translation table so that it contains all unique product category name from products table\n",
    "new_index = products.product_category_name.unique()\n",
    "product_category_name_translation = product_category_name_translation.\\\n",
    "    set_index('product_category_name').\\\n",
    "    reindex(new_index).reset_index()"
   ]
  },
  {
   "cell_type": "code",
   "execution_count": 26,
   "metadata": {},
   "outputs": [],
   "source": [
    "### Keep the original category names for rows with NaN product_category_name_english\n",
    "mask = product_category_name_translation.product_category_name_english.isnull()\n",
    "product_category_name_translation.loc[mask,'product_category_name_english'] = \\\n",
    "product_category_name_translation.apply(lambda x: x['product_category_name'], axis = 1)"
   ]
  },
  {
   "cell_type": "code",
   "execution_count": 27,
   "metadata": {},
   "outputs": [
    {
     "name": "stdout",
     "output_type": "stream",
     "text": [
      "<class 'pandas.core.frame.DataFrame'>\n",
      "RangeIndex: 74 entries, 0 to 73\n",
      "Data columns (total 2 columns):\n",
      " #   Column                         Non-Null Count  Dtype \n",
      "---  ------                         --------------  ----- \n",
      " 0   product_category_name          73 non-null     object\n",
      " 1   product_category_name_english  73 non-null     object\n",
      "dtypes: object(2)\n",
      "memory usage: 1.3+ KB\n"
     ]
    }
   ],
   "source": [
    "product_category_name_translation.info()"
   ]
  },
  {
   "cell_type": "code",
   "execution_count": 28,
   "metadata": {},
   "outputs": [],
   "source": [
    "## Customers is only recognised as a customer if they buy at least 1 order so we need to drop customers which does not appear in the newly cleaned orders table.\n",
    "customers = customers.merge(orders, how='inner', on = 'customer_id')[customers.columns]"
   ]
  },
  {
   "cell_type": "markdown",
   "metadata": {},
   "source": [
    "#### Exporting newly cleaned data for data visualisation"
   ]
  },
  {
   "cell_type": "code",
   "execution_count": 29,
   "metadata": {},
   "outputs": [],
   "source": [
    "# orders.to_csv('orders2.csv')\n",
    "# order_items.to_csv('order_items2.csv')\n",
    "# order_payments.to_csv('order_payments2.csv')\n",
    "# products.to_csv('products2.csv')\n",
    "# product_category_name_translation.to_csv('product_category_name_translation2.csv')\n",
    "# orders_reviews.to_csv('orders_reviews2.csv')\n",
    "# customers.to_csv('customers2.csv')"
   ]
  },
  {
   "cell_type": "markdown",
   "metadata": {},
   "source": [
    "# EDA <a class=\"anchor\" id=\"fourth-bullet\"></a>"
   ]
  },
  {
   "cell_type": "markdown",
   "metadata": {},
   "source": [
    "#### Overview"
   ]
  },
  {
   "cell_type": "markdown",
   "metadata": {},
   "source": [
    "- Business situation"
   ]
  },
  {
   "cell_type": "code",
   "execution_count": 30,
   "metadata": {},
   "outputs": [
    {
     "name": "stdout",
     "output_type": "stream",
     "text": [
      "total revenue made is 13591508.73\n"
     ]
    }
   ],
   "source": [
    "rev = order_items['price'].sum()\n",
    "print('total revenue made is {}'.format(rev))"
   ]
  },
  {
   "cell_type": "code",
   "execution_count": 31,
   "metadata": {},
   "outputs": [
    {
     "name": "stdout",
     "output_type": "stream",
     "text": [
      "total items sold is 112647\n"
     ]
    }
   ],
   "source": [
    "items = len(order_items)\n",
    "print('total items sold is {}'.format(items))"
   ]
  },
  {
   "cell_type": "code",
   "execution_count": 32,
   "metadata": {},
   "outputs": [
    {
     "name": "stdout",
     "output_type": "stream",
     "text": [
      "total payments made is 15846280.169999998\n"
     ]
    }
   ],
   "source": [
    "payments = order_payments['payment_value'].sum()\n",
    "print('total payments made is {}'.format(payments))"
   ]
  },
  {
   "cell_type": "markdown",
   "metadata": {},
   "source": [
    "- Customer satisfaction"
   ]
  },
  {
   "cell_type": "code",
   "execution_count": 33,
   "metadata": {},
   "outputs": [
    {
     "name": "stdout",
     "output_type": "stream",
     "text": [
      "Average review score is 4.089356083893531\n"
     ]
    }
   ],
   "source": [
    "avg_review_score = orders_reviews['review_score'].mean()\n",
    "print('Average review score is {}'.format(avg_review_score))"
   ]
  },
  {
   "cell_type": "code",
   "execution_count": 34,
   "metadata": {},
   "outputs": [
    {
     "name": "stdout",
     "output_type": "stream",
     "text": [
      "Average review response time is 3 days 03:18:10.666149303\n"
     ]
    }
   ],
   "source": [
    "avg_review_response_time = (orders_reviews['review_answer_timestamp'] - orders_reviews['review_creation_date']).mean()\n",
    "print('Average review response time is {}'.format(avg_review_response_time))"
   ]
  },
  {
   "cell_type": "markdown",
   "metadata": {},
   "source": [
    "#### <font color = '#ffc453'> Orders </font>"
   ]
  },
  {
   "cell_type": "code",
   "execution_count": 35,
   "metadata": {},
   "outputs": [
    {
     "name": "stdout",
     "output_type": "stream",
     "text": [
      "<class 'pandas.core.frame.DataFrame'>\n",
      "Int64Index: 98665 entries, 0 to 103055\n",
      "Data columns (total 8 columns):\n",
      " #   Column                         Non-Null Count  Dtype         \n",
      "---  ------                         --------------  -----         \n",
      " 0   order_id                       98665 non-null  object        \n",
      " 1   customer_id                    98665 non-null  object        \n",
      " 2   order_status                   98665 non-null  object        \n",
      " 3   order_purchase_timestamp       98665 non-null  datetime64[ns]\n",
      " 4   order_approved_at              98651 non-null  datetime64[ns]\n",
      " 5   order_delivered_carrier_date   97656 non-null  datetime64[ns]\n",
      " 6   order_delivered_customer_date  96475 non-null  datetime64[ns]\n",
      " 7   order_estimated_delivery_date  98665 non-null  datetime64[ns]\n",
      "dtypes: datetime64[ns](5), object(3)\n",
      "memory usage: 6.8+ MB\n"
     ]
    }
   ],
   "source": [
    "orders.info()"
   ]
  },
  {
   "cell_type": "markdown",
   "metadata": {},
   "source": [
    "An order has to go through 4 steps before reaching the hand of the end-user:\n",
    "- Order made\n",
    "- Order approved\n",
    "- Order delivered to carrier\n",
    "- Order delivered to customer"
   ]
  },
  {
   "cell_type": "markdown",
   "metadata": {},
   "source": [
    "In this part we will see:\n",
    "1. which part occupies the largest amount of time?\n",
    "2. How far is it from the order estimated delivery date to the actual order delivery date?\n",
    "3. Orders arrived earlier than expected proportion\n",
    "4. Does the time it takes to deliver an order affect the overall satisfaction of the customer with the order?\n",
    "5. If yes, then what's the solution?\n"
   ]
  },
  {
   "cell_type": "markdown",
   "metadata": {},
   "source": [
    "##### 1. Which part in the process occupies the largest amount of time?"
   ]
  },
  {
   "cell_type": "code",
   "execution_count": 36,
   "metadata": {},
   "outputs": [],
   "source": [
    "made_to_approved = (orders['order_approved_at'] - orders['order_purchase_timestamp']).mean()\n",
    "approved_to_carrier = (orders['order_delivered_carrier_date'] - orders['order_approved_at']).mean()\n",
    "carrier_to_customer = (orders['order_delivered_customer_date'] - orders['order_delivered_carrier_date']).mean()"
   ]
  },
  {
   "cell_type": "code",
   "execution_count": 37,
   "metadata": {},
   "outputs": [
    {
     "data": {
      "image/png": "[encoded data removed]",
      "text/plain": [
       "<Figure size 648x360 with 1 Axes>"
      ]
     },
     "metadata": {},
     "output_type": "display_data"
    }
   ],
   "source": [
    "labels = ['Average time to approve order','Average time from approve to carrier','Average time from carrier to customer']\n",
    "seconds = [i/pd.Timedelta(hours = 1) for i in [made_to_approved,approved_to_carrier,carrier_to_customer]]\n",
    "f = plt.figure()\n",
    "ax = f.add_subplot(1,1,1)\n",
    "ax.bar(labels, seconds)\n",
    "plt.xticks(rotation = 45)\n",
    "plt.title('Average hours for each steps before delivering orders to customers')\n",
    "for i,v in enumerate(seconds):\n",
    "    plt.text(i,v + 5,str(int(v)))"
   ]
  },
  {
   "cell_type": "code",
   "execution_count": 38,
   "metadata": {},
   "outputs": [
    {
     "name": "stdout",
     "output_type": "stream",
     "text": [
      "It takes on average 0 days 10:19:17.112000892 to approve an order    \n",
      "It takes on average 2 days 19:18:05.257481411 from approving an order to deliver it to carrier    \n",
      "It takes on average 9 days 07:56:06.170149470 from delivering the order to carrier to deliver it to customer\n"
     ]
    }
   ],
   "source": [
    "print('It takes on average {} to approve an order\\\n",
    "    \\nIt takes on average {} from approving an order to deliver it to carrier\\\n",
    "    \\nIt takes on average {} from delivering the order to carrier to deliver it to customer'\\\n",
    "    .format(made_to_approved,approved_to_carrier,carrier_to_customer))"
   ]
  },
  {
   "cell_type": "markdown",
   "metadata": {},
   "source": [
    "The last-mile delivery occupies a large amount of time (more than 9 days) compare to the 2 other steps. This issue should be taken into account by the company."
   ]
  },
  {
   "cell_type": "markdown",
   "metadata": {},
   "source": [
    "##### 2. How far is it from the order estimated delivery date to the actual order delivery date?"
   ]
  },
  {
   "cell_type": "code",
   "execution_count": 39,
   "metadata": {},
   "outputs": [
    {
     "data": {
      "text/plain": [
       "count                         96475\n",
       "mean     11 days 04:18:38.500596009\n",
       "std      10 days 04:26:25.534541504\n",
       "min             -189 days +00:35:53\n",
       "25%                 6 days 09:21:47\n",
       "50%                11 days 22:46:30\n",
       "75%         16 days 05:51:55.500000\n",
       "max               146 days 00:23:13\n",
       "dtype: object"
      ]
     },
     "execution_count": 39,
     "metadata": {},
     "output_type": "execute_result"
    }
   ],
   "source": [
    "(orders['order_estimated_delivery_date'] - orders['order_delivered_customer_date']).describe()"
   ]
  },
  {
   "cell_type": "code",
   "execution_count": 40,
   "metadata": {},
   "outputs": [
    {
     "data": {
      "image/png": "[encoded data removed]",
      "text/plain": [
       "<Figure size 648x360 with 1 Axes>"
      ]
     },
     "metadata": {},
     "output_type": "display_data"
    }
   ],
   "source": [
    "((orders['order_estimated_delivery_date'] - orders['order_delivered_customer_date'])/np.timedelta64(1,'D')).plot.hist(bins = 100, \\\n",
    "    title = 'Histogram of the distance between estimated and actual delivery date');"
   ]
  },
  {
   "cell_type": "markdown",
   "metadata": {},
   "source": [
    "##### 3. The proportion of orders arrived earlier than expected"
   ]
  },
  {
   "cell_type": "code",
   "execution_count": 41,
   "metadata": {},
   "outputs": [],
   "source": [
    "earlier_or_not = orders.apply(lambda x: True if \\\n",
    "    x['order_estimated_delivery_date'] > x['order_delivered_customer_date'] else False, axis = 1).value_counts()"
   ]
  },
  {
   "cell_type": "code",
   "execution_count": 42,
   "metadata": {},
   "outputs": [
    {
     "data": {
      "text/plain": [
       "True     88649\n",
       "False    10016\n",
       "dtype: int64"
      ]
     },
     "execution_count": 42,
     "metadata": {},
     "output_type": "execute_result"
    }
   ],
   "source": [
    "earlier_or_not"
   ]
  },
  {
   "cell_type": "code",
   "execution_count": 43,
   "metadata": {},
   "outputs": [
    {
     "data": {
      "image/png": "[encoded data removed]",
      "text/plain": [
       "<Figure size 648x360 with 1 Axes>"
      ]
     },
     "metadata": {},
     "output_type": "display_data"
    }
   ],
   "source": [
    "plt.pie(earlier_or_not, labels = ['earlier than expected','longer than expected'], autopct='%1.1f%%', explode = [0.1,0])\n",
    "plt.title('Proportion of number of orders arrived earlier than expected and longer than expected');"
   ]
  },
  {
   "cell_type": "markdown",
   "metadata": {},
   "source": [
    "##### 4. Does the time it takes to deliver an order affect the overall satisfaction of the customer with the order?"
   ]
  },
  {
   "cell_type": "code",
   "execution_count": 44,
   "metadata": {},
   "outputs": [],
   "source": [
    "orders['earlier_or_not'] = orders.apply(lambda x: True if \\\n",
    "    x['order_estimated_delivery_date'] > x['order_delivered_customer_date'] else False, axis = 1)"
   ]
  },
  {
   "cell_type": "code",
   "execution_count": 45,
   "metadata": {},
   "outputs": [
    {
     "data": {
      "text/plain": [
       "earlier_or_not\n",
       "False    2.376712\n",
       "True     4.282892\n",
       "Name: review_score, dtype: float64"
      ]
     },
     "execution_count": 45,
     "metadata": {},
     "output_type": "execute_result"
    }
   ],
   "source": [
    "avg_review_score_by_order_arrival_time = orders_reviews.merge(orders, how='inner', on = 'order_id').groupby('earlier_or_not')['review_score'].mean()\n",
    "avg_review_score_by_order_arrival_time"
   ]
  },
  {
   "cell_type": "code",
   "execution_count": 46,
   "metadata": {},
   "outputs": [
    {
     "data": {
      "text/plain": [
       "''"
      ]
     },
     "execution_count": 46,
     "metadata": {},
     "output_type": "execute_result"
    },
    {
     "data": {
      "image/png": "[encoded data removed]",
      "text/plain": [
       "<Figure size 648x360 with 1 Axes>"
      ]
     },
     "metadata": {},
     "output_type": "display_data"
    }
   ],
   "source": [
    "sns.barplot(['earlier than expected','longer than expected'], avg_review_score_by_order_arrival_time)\n",
    "for i,v in enumerate(avg_review_score_by_order_arrival_time):\n",
    "    plt.text(i,v + 0.1, str(round(v, 2)))\n",
    "plt.title('Average review score by the time it takes to deliver the orders')\n",
    ";"
   ]
  },
  {
   "cell_type": "markdown",
   "metadata": {},
   "source": [
    "The answer is yes. The orders that arrived earlier than expected have an average review score of 4.3. While the orders that arrived longer than expected only have an average review score of 2.4."
   ]
  },
  {
   "cell_type": "markdown",
   "metadata": {},
   "source": [
    "##### 5. Solution for the late delivery"
   ]
  },
  {
   "cell_type": "code",
   "execution_count": 47,
   "metadata": {},
   "outputs": [],
   "source": [
    "late_orders = orders[orders.earlier_or_not == False]"
   ]
  },
  {
   "cell_type": "code",
   "execution_count": 48,
   "metadata": {},
   "outputs": [],
   "source": [
    "late_made_to_approved = (late_orders['order_approved_at'] - late_orders['order_purchase_timestamp']).mean()\n",
    "late_approved_to_carrier = (late_orders['order_delivered_carrier_date'] - late_orders['order_approved_at']).mean()\n",
    "late_carrier_to_customer = (late_orders['order_delivered_customer_date'] - late_orders['order_delivered_carrier_date']).mean()"
   ]
  },
  {
   "cell_type": "code",
   "execution_count": 49,
   "metadata": {},
   "outputs": [
    {
     "name": "stdout",
     "output_type": "stream",
     "text": [
      "For late orders:    \n",
      "It takes on average 0 days 12:17:57.049920127 to approve an order    \n",
      "It takes on average 5 days 01:02:06.852337071 from approving an order to deliver it to carrier    \n",
      "It takes on average 25 days 16:27:47.426325878 from delivering the order to carrier to deliver it to customer\n"
     ]
    }
   ],
   "source": [
    "print('For late orders:\\\n",
    "    \\nIt takes on average {} to approve an order\\\n",
    "    \\nIt takes on average {} from approving an order to deliver it to carrier\\\n",
    "    \\nIt takes on average {} from delivering the order to carrier to deliver it to customer'\\\n",
    "    .format(late_made_to_approved,late_approved_to_carrier,late_carrier_to_customer))"
   ]
  },
  {
   "cell_type": "code",
   "execution_count": 50,
   "metadata": {},
   "outputs": [
    {
     "data": {
      "image/png": "[encoded data removed]",
      "text/plain": [
       "<Figure size 648x360 with 1 Axes>"
      ]
     },
     "metadata": {},
     "output_type": "display_data"
    }
   ],
   "source": [
    "X = ['Average time to approve order','Average time from approve to carrier','Average time from carrier to customer (last-mile)']\n",
    "seconds = [i/pd.Timedelta(hours = 1) for i in [made_to_approved,approved_to_carrier,carrier_to_customer]]\n",
    "late_seconds = [i/pd.Timedelta(hours = 1) for i in [late_made_to_approved,late_approved_to_carrier,late_carrier_to_customer]]\n",
    "  \n",
    "X_axis = np.arange(len(X))\n",
    "  \n",
    "plt.bar(X_axis - 0.2, seconds, 0.4, label = 'All orders')\n",
    "plt.bar(X_axis + 0.2, late_seconds, 0.4, label = 'Late orders')\n",
    "  \n",
    "plt.xticks(X_axis, X)\n",
    "plt.xlabel(\"Steps in delivery process\")\n",
    "plt.ylabel(\"Average hours\")\n",
    "plt.title(\"Average hours for each steps before delivering orders to customers\")\n",
    "plt.xticks(rotation = 25)\n",
    "plt.axhline(seconds[2])\n",
    "for i,v in enumerate(seconds):\n",
    "    plt.text(i - 0.25,v + 10,str(round(v,2)))\n",
    "for i,v in enumerate(late_seconds):\n",
    "    plt.text(i + 0.1,v + 10,str(round(v,2)))\n",
    "plt.annotate('Carrier is the big issue',xytext = (0.5,400),\n",
    "             arrowprops=dict(color = 'k', width=1),xy=(1.8,300))\n",
    "plt.legend()\n",
    "plt.show()"
   ]
  },
  {
   "cell_type": "markdown",
   "metadata": {},
   "source": [
    "We can see that the biggest problem is the carrier not being able to deliver the orders on time. It takes 16 days (9 days) more than an usual order.\n",
    "<br> => Solution: Have local warehouses. Since the company is shipping products across the country. It's impossible to have warehouses at all cities across the country. We need to identify warehouses at strategic locations.\n",
    "<br> => Should really consider switching to another carrier"
   ]
  },
  {
   "cell_type": "markdown",
   "metadata": {},
   "source": [
    "![Image of Yaktocat](https://thumbs.dreamstime.com/b/inside-store-warehouse-worker-walks-local-workshop-spanish-balearic-island-mallorca-63645898.jpg)"
   ]
  },
  {
   "cell_type": "code",
   "execution_count": 51,
   "metadata": {},
   "outputs": [],
   "source": [
    "customer_city = customers[['customer_id','customer_city']]\n",
    "order_count_by_city = orders.\\\n",
    "    merge(customer_city, how='inner', on = 'customer_id')\\\n",
    "        .groupby('customer_city')['earlier_or_not'].count().to_frame()"
   ]
  },
  {
   "cell_type": "code",
   "execution_count": 52,
   "metadata": {},
   "outputs": [],
   "source": [
    "temp = orders.merge(customer_city, how='inner', on = 'customer_id')\n",
    "late_rate_by_city = pd.crosstab(temp.customer_city,temp.earlier_or_not,normalize='index')[False]*100\n",
    "late_rate_by_city = late_rate_by_city.to_frame()"
   ]
  },
  {
   "cell_type": "code",
   "execution_count": 53,
   "metadata": {},
   "outputs": [],
   "source": [
    "order_and_late_rate_by_city = order_count_by_city.merge(late_rate_by_city, how='left', on ='customer_city')\n",
    "order_and_late_rate_by_city.columns = ['order_count','late_rate']"
   ]
  },
  {
   "cell_type": "code",
   "execution_count": 54,
   "metadata": {},
   "outputs": [
    {
     "data": {
      "text/html": [
       "<div>\n",
       "<style scoped>\n",
       "    .dataframe tbody tr th:only-of-type {\n",
       "        vertical-align: middle;\n",
       "    }\n",
       "\n",
       "    .dataframe tbody tr th {\n",
       "        vertical-align: top;\n",
       "    }\n",
       "\n",
       "    .dataframe thead th {\n",
       "        text-align: right;\n",
       "    }\n",
       "</style>\n",
       "<table border=\"1\" class=\"dataframe\">\n",
       "  <thead>\n",
       "    <tr style=\"text-align: right;\">\n",
       "      <th></th>\n",
       "      <th>order_count</th>\n",
       "      <th>late_rate</th>\n",
       "    </tr>\n",
       "    <tr>\n",
       "      <th>customer_city</th>\n",
       "      <th></th>\n",
       "      <th></th>\n",
       "    </tr>\n",
       "  </thead>\n",
       "  <tbody>\n",
       "    <tr>\n",
       "      <th>sao paulo</th>\n",
       "      <td>15402</td>\n",
       "      <td>8.427477</td>\n",
       "    </tr>\n",
       "    <tr>\n",
       "      <th>rio de janeiro</th>\n",
       "      <td>6834</td>\n",
       "      <td>14.779046</td>\n",
       "    </tr>\n",
       "    <tr>\n",
       "      <th>belo horizonte</th>\n",
       "      <td>2750</td>\n",
       "      <td>7.963636</td>\n",
       "    </tr>\n",
       "    <tr>\n",
       "      <th>brasilia</th>\n",
       "      <td>2116</td>\n",
       "      <td>9.073724</td>\n",
       "    </tr>\n",
       "    <tr>\n",
       "      <th>curitiba</th>\n",
       "      <td>1510</td>\n",
       "      <td>6.291391</td>\n",
       "    </tr>\n",
       "    <tr>\n",
       "      <th>campinas</th>\n",
       "      <td>1429</td>\n",
       "      <td>11.616515</td>\n",
       "    </tr>\n",
       "    <tr>\n",
       "      <th>porto alegre</th>\n",
       "      <td>1372</td>\n",
       "      <td>13.775510</td>\n",
       "    </tr>\n",
       "    <tr>\n",
       "      <th>salvador</th>\n",
       "      <td>1238</td>\n",
       "      <td>20.840065</td>\n",
       "    </tr>\n",
       "    <tr>\n",
       "      <th>guarulhos</th>\n",
       "      <td>1178</td>\n",
       "      <td>9.083192</td>\n",
       "    </tr>\n",
       "    <tr>\n",
       "      <th>sao bernardo do campo</th>\n",
       "      <td>928</td>\n",
       "      <td>7.974138</td>\n",
       "    </tr>\n",
       "  </tbody>\n",
       "</table>\n",
       "</div>"
      ],
      "text/plain": [
       "                       order_count  late_rate\n",
       "customer_city                                \n",
       "sao paulo                    15402   8.427477\n",
       "rio de janeiro                6834  14.779046\n",
       "belo horizonte                2750   7.963636\n",
       "brasilia                      2116   9.073724\n",
       "curitiba                      1510   6.291391\n",
       "campinas                      1429  11.616515\n",
       "porto alegre                  1372  13.775510\n",
       "salvador                      1238  20.840065\n",
       "guarulhos                     1178   9.083192\n",
       "sao bernardo do campo          928   7.974138"
      ]
     },
     "execution_count": 54,
     "metadata": {},
     "output_type": "execute_result"
    }
   ],
   "source": [
    "order_and_late_rate_by_city.sort_values(['order_count','late_rate'],ascending = False).head(10)"
   ]
  },
  {
   "cell_type": "markdown",
   "metadata": {},
   "source": [
    "=> Build local warehouses at sao paulo and rio de janeiro"
   ]
  },
  {
   "cell_type": "markdown",
   "metadata": {},
   "source": [
    "#### <font color = '#ffc453'> Orders reviews</font>"
   ]
  },
  {
   "cell_type": "code",
   "execution_count": 55,
   "metadata": {},
   "outputs": [
    {
     "data": {
      "image/png": "[encoded data removed]",
      "text/plain": [
       "<Figure size 648x360 with 1 Axes>"
      ]
     },
     "metadata": {},
     "output_type": "display_data"
    }
   ],
   "source": [
    "orders_reviews.review_score.plot.hist()\n",
    "plt.title('Frequency distribution of review score')\n",
    "for i,v in enumerate(orders_reviews['review_score'].value_counts().sort_index()):\n",
    "    plt.text(i+1,v+1000,str(v))"
   ]
  },
  {
   "cell_type": "markdown",
   "metadata": {},
   "source": [
    "##### Average response time for negative review"
   ]
  },
  {
   "cell_type": "code",
   "execution_count": 56,
   "metadata": {},
   "outputs": [
    {
     "name": "stdout",
     "output_type": "stream",
     "text": [
      "It takes 3 days 03:18:10.666149303 on average to response to a review\n"
     ]
    }
   ],
   "source": [
    "avg_reviews_response_time = \\\n",
    "    (orders_reviews['review_answer_timestamp'] - orders_reviews['review_creation_date']).mean()\n",
    "print('It takes {} on average to response to a review'.format(avg_review_response_time))"
   ]
  },
  {
   "cell_type": "markdown",
   "metadata": {},
   "source": [
    "Let's see how long it takes on average to response to a negative review"
   ]
  },
  {
   "cell_type": "code",
   "execution_count": 57,
   "metadata": {},
   "outputs": [],
   "source": [
    "review_label = ['negative' if x < 3 else 'neutral and positive' for x in orders_reviews['review_score']]"
   ]
  },
  {
   "cell_type": "code",
   "execution_count": 58,
   "metadata": {},
   "outputs": [
    {
     "data": {
      "text/plain": [
       "negative               3 days 00:05:07.990603192\n",
       "neutral and positive   3 days 03:51:08.719474205\n",
       "dtype: timedelta64[ns]"
      ]
     },
     "execution_count": 58,
     "metadata": {},
     "output_type": "execute_result"
    }
   ],
   "source": [
    "orders_reviews.\\\n",
    "    groupby(review_label).\\\n",
    "        apply(lambda x: (x['review_answer_timestamp'] - x['review_creation_date']).mean())"
   ]
  },
  {
   "cell_type": "markdown",
   "metadata": {},
   "source": [
    "3 days is too long. When customers are having a bad experiences whether if it's because of the quality of the product or because of the delivery time too long, the company should response to them as soon as possible. This should make them feel:\n",
    "- That your company appreciates and values candid unsolicited feedback\n",
    "- They're not being neglected and that your company actually care about them\n",
    "- Avoid angry customers to spread negative informations about the business (by calming them down)\n",
    "\n",
    "The same for neutral and positive reviews. 3 days is too long, for these reviews the company should set up bot to automatically answer them to show appreciation on their nice comments.\n",
    "\n",
    "Set up bot for negative reviews to tell the customers that there will be an executive to reach back to them as soon as possible. This should reduce the reponse time."
   ]
  },
  {
   "cell_type": "markdown",
   "metadata": {},
   "source": [
    "![Image of Yaktocat](https://s3.amazonaws.com/blog4.0/blog/wp-content/uploads/NegativeFeedbackExamples_ContentImage_2-1024x510.png)"
   ]
  },
  {
   "cell_type": "markdown",
   "metadata": {},
   "source": [
    "#### <font color = '#ffc453'> Items and categories</font>"
   ]
  },
  {
   "cell_type": "markdown",
   "metadata": {},
   "source": [
    "In this section we'll try to answer these questions below:\n",
    "1. Top 10 categories (in English) brought the most revenues?\n",
    "2. Top 10 categories (in English) has the highest number of items sold?\n",
    "3. Top 5 categories (in English) have the highest growth rate (compare to last year 2017)\n",
    "4. Which categories (in English) are most often sold together? (For promotion purpose)"
   ]
  },
  {
   "cell_type": "markdown",
   "metadata": {},
   "source": [
    "##### 1. Top 10 categories (in English) brought the most revenues?"
   ]
  },
  {
   "cell_type": "code",
   "execution_count": 59,
   "metadata": {},
   "outputs": [],
   "source": [
    "categories_rev = order_items.merge(products[['product_id','product_category_name']], how = 'inner', on = 'product_id')\\\n",
    "    .merge(product_category_name_translation, how = 'inner', on = 'product_category_name')"
   ]
  },
  {
   "cell_type": "code",
   "execution_count": 60,
   "metadata": {},
   "outputs": [],
   "source": [
    "top_categories_rev = categories_rev.groupby('product_category_name_english')['price'].sum().sort_values(ascending = False).head(10)"
   ]
  },
  {
   "cell_type": "code",
   "execution_count": 61,
   "metadata": {},
   "outputs": [
    {
     "data": {
      "image/png": "[encoded data removed]",
      "text/plain": [
       "<Figure size 648x360 with 1 Axes>"
      ]
     },
     "metadata": {},
     "output_type": "display_data"
    }
   ],
   "source": [
    "sns.barplot(top_categories_rev, top_categories_rev.index)\n",
    "plt.title('Total revenue made by top 10 categories')\n",
    "for i,v in enumerate(top_categories_rev):\n",
    "    plt.text(v,i,str(v));"
   ]
  },
  {
   "cell_type": "markdown",
   "metadata": {},
   "source": [
    "##### 2. Top 10 categories (in English) have the highest number of items sold?"
   ]
  },
  {
   "cell_type": "code",
   "execution_count": 62,
   "metadata": {},
   "outputs": [],
   "source": [
    "categories_quan = categories_rev['product_category_name_english'].value_counts().head(10)"
   ]
  },
  {
   "cell_type": "code",
   "execution_count": 63,
   "metadata": {},
   "outputs": [
    {
     "data": {
      "image/png": "[encoded data removed]",
      "text/plain": [
       "<Figure size 648x360 with 1 Axes>"
      ]
     },
     "metadata": {},
     "output_type": "display_data"
    }
   ],
   "source": [
    "sns.barplot(categories_quan, categories_quan.index)\n",
    "plt.title('Total number of items sold by top 10 categories')\n",
    "for i,v in enumerate(categories_quan):\n",
    "    plt.text(v,i,str(v));"
   ]
  },
  {
   "cell_type": "markdown",
   "metadata": {},
   "source": [
    "##### 3. Top 5 categories (in English) have the highest growth rate (compare to last year 2017)"
   ]
  },
  {
   "cell_type": "markdown",
   "metadata": {},
   "source": [
    "For simplicity we'll account the revenue made on the day the order is made by customers"
   ]
  },
  {
   "cell_type": "code",
   "execution_count": 64,
   "metadata": {},
   "outputs": [],
   "source": [
    "categories_purchase_time = categories_rev.merge(orders[['order_id','order_approved_at']], how = 'inner', on = 'order_id')"
   ]
  },
  {
   "cell_type": "markdown",
   "metadata": {},
   "source": [
    "We'll only care about the year 2017 and 2018 so let's filter anything else out."
   ]
  },
  {
   "cell_type": "code",
   "execution_count": 65,
   "metadata": {},
   "outputs": [],
   "source": [
    "mask1 = pd.to_datetime(categories_purchase_time['order_approved_at']).dt.year == 2017\n",
    "mask2 = pd.to_datetime(categories_purchase_time['order_approved_at']).dt.year == 2018\n",
    "categories_purchase_time = categories_purchase_time[mask1 | mask2]"
   ]
  },
  {
   "cell_type": "code",
   "execution_count": 66,
   "metadata": {},
   "outputs": [],
   "source": [
    "performance_over_year = \\\n",
    "pd.pivot_table(data = categories_purchase_time, index = 'product_category_name_english', \\\n",
    "    columns = pd.to_datetime(categories_purchase_time['order_approved_at']).dt.year\\\n",
    "        , values = 'price', aggfunc = 'sum')\n",
    "## Calculating the growth rate\n",
    "performance_over_year['growth_rate'] = (performance_over_year[2018] - performance_over_year[2017])/performance_over_year[2017]*100"
   ]
  },
  {
   "cell_type": "code",
   "execution_count": 67,
   "metadata": {},
   "outputs": [
    {
     "data": {
      "text/html": [
       "<div>\n",
       "<style scoped>\n",
       "    .dataframe tbody tr th:only-of-type {\n",
       "        vertical-align: middle;\n",
       "    }\n",
       "\n",
       "    .dataframe tbody tr th {\n",
       "        vertical-align: top;\n",
       "    }\n",
       "\n",
       "    .dataframe thead th {\n",
       "        text-align: right;\n",
       "    }\n",
       "</style>\n",
       "<table border=\"1\" class=\"dataframe\">\n",
       "  <thead>\n",
       "    <tr style=\"text-align: right;\">\n",
       "      <th>order_approved_at</th>\n",
       "      <th>2017</th>\n",
       "      <th>2018</th>\n",
       "      <th>growth_rate</th>\n",
       "    </tr>\n",
       "    <tr>\n",
       "      <th>product_category_name_english</th>\n",
       "      <th></th>\n",
       "      <th></th>\n",
       "      <th></th>\n",
       "    </tr>\n",
       "  </thead>\n",
       "  <tbody>\n",
       "    <tr>\n",
       "      <th>small_appliances_home_oven_and_coffee</th>\n",
       "      <td>821.95</td>\n",
       "      <td>46623.76</td>\n",
       "      <td>5572.335300</td>\n",
       "    </tr>\n",
       "    <tr>\n",
       "      <th>diapers_and_hygiene</th>\n",
       "      <td>76.00</td>\n",
       "      <td>1356.69</td>\n",
       "      <td>1685.118421</td>\n",
       "    </tr>\n",
       "    <tr>\n",
       "      <th>arts_and_craftmanship</th>\n",
       "      <td>151.89</td>\n",
       "      <td>1662.12</td>\n",
       "      <td>994.291922</td>\n",
       "    </tr>\n",
       "    <tr>\n",
       "      <th>construction_tools_lights</th>\n",
       "      <td>4053.48</td>\n",
       "      <td>37026.52</td>\n",
       "      <td>813.450171</td>\n",
       "    </tr>\n",
       "    <tr>\n",
       "      <th>cine_photo</th>\n",
       "      <td>695.00</td>\n",
       "      <td>6238.46</td>\n",
       "      <td>797.620144</td>\n",
       "    </tr>\n",
       "    <tr>\n",
       "      <th>...</th>\n",
       "      <td>...</td>\n",
       "      <td>...</td>\n",
       "      <td>...</td>\n",
       "    </tr>\n",
       "    <tr>\n",
       "      <th>fashion_sport</th>\n",
       "      <td>1750.01</td>\n",
       "      <td>369.50</td>\n",
       "      <td>-78.885835</td>\n",
       "    </tr>\n",
       "    <tr>\n",
       "      <th>tablets_printing_image</th>\n",
       "      <td>6260.45</td>\n",
       "      <td>1267.96</td>\n",
       "      <td>-79.746504</td>\n",
       "    </tr>\n",
       "    <tr>\n",
       "      <th>cds_dvds_musicals</th>\n",
       "      <td>665.00</td>\n",
       "      <td>65.00</td>\n",
       "      <td>-90.225564</td>\n",
       "    </tr>\n",
       "    <tr>\n",
       "      <th>portateis_cozinha_e_preparadores_de_alimentos</th>\n",
       "      <td>NaN</td>\n",
       "      <td>3968.53</td>\n",
       "      <td>NaN</td>\n",
       "    </tr>\n",
       "    <tr>\n",
       "      <th>security_and_services</th>\n",
       "      <td>283.29</td>\n",
       "      <td>NaN</td>\n",
       "      <td>NaN</td>\n",
       "    </tr>\n",
       "  </tbody>\n",
       "</table>\n",
       "<p>73 rows × 3 columns</p>\n",
       "</div>"
      ],
      "text/plain": [
       "order_approved_at                                 2017      2018  growth_rate\n",
       "product_category_name_english                                                \n",
       "small_appliances_home_oven_and_coffee           821.95  46623.76  5572.335300\n",
       "diapers_and_hygiene                              76.00   1356.69  1685.118421\n",
       "arts_and_craftmanship                           151.89   1662.12   994.291922\n",
       "construction_tools_lights                      4053.48  37026.52   813.450171\n",
       "cine_photo                                      695.00   6238.46   797.620144\n",
       "...                                                ...       ...          ...\n",
       "fashion_sport                                  1750.01    369.50   -78.885835\n",
       "tablets_printing_image                         6260.45   1267.96   -79.746504\n",
       "cds_dvds_musicals                               665.00     65.00   -90.225564\n",
       "portateis_cozinha_e_preparadores_de_alimentos      NaN   3968.53          NaN\n",
       "security_and_services                           283.29       NaN          NaN\n",
       "\n",
       "[73 rows x 3 columns]"
      ]
     },
     "execution_count": 67,
     "metadata": {},
     "output_type": "execute_result"
    }
   ],
   "source": [
    "performance_over_year.sort_values('growth_rate', ascending = False)"
   ]
  },
  {
   "cell_type": "code",
   "execution_count": 68,
   "metadata": {},
   "outputs": [],
   "source": [
    "top_5_performance_over_year = performance_over_year.sort_values('growth_rate', ascending = False).head(5)"
   ]
  },
  {
   "cell_type": "code",
   "execution_count": 69,
   "metadata": {},
   "outputs": [
    {
     "data": {
      "image/png": "[encoded data removed]",
      "text/plain": [
       "<Figure size 648x360 with 1 Axes>"
      ]
     },
     "metadata": {},
     "output_type": "display_data"
    }
   ],
   "source": [
    "top_5_performance_over_year.drop(columns = 'growth_rate').transpose().plot()\n",
    "plt.xticks([2017,2018])\n",
    "plt.title('Revenue made over the year 2017 and 2018 of top 5 categories with highest growth rate');"
   ]
  },
  {
   "cell_type": "markdown",
   "metadata": {},
   "source": [
    "=> Suggestion: Focus more on 2 categories:\n",
    "- small_appliances_home_oven_and_cofffee\n",
    "- construction_tools_flight\n",
    "<br>Although construction_tools_flight only stand in number 4 but it brings success at large scale (more than 37000 revenue made in 2018), while the other 3 only success at relatively small scale"
   ]
  },
  {
   "cell_type": "markdown",
   "metadata": {},
   "source": [
    "##### 4. Which categories (in English) are most often sold together? (For promotion purpose)"
   ]
  },
  {
   "cell_type": "code",
   "execution_count": 70,
   "metadata": {},
   "outputs": [],
   "source": [
    "from itertools import combinations\n",
    "from collections import Counter"
   ]
  },
  {
   "cell_type": "code",
   "execution_count": 71,
   "metadata": {},
   "outputs": [],
   "source": [
    "sold_together = categories_rev.drop_duplicates(subset = ['order_id','product_category_name_english'])\\\n",
    "    .groupby('order_id')['product_category_name_english'].apply(lambda x: list(x)).to_frame()"
   ]
  },
  {
   "cell_type": "code",
   "execution_count": 72,
   "metadata": {},
   "outputs": [
    {
     "name": "stdout",
     "output_type": "stream",
     "text": [
      "('furniture_decor', 'bed_bath_table') 70\n",
      "('bed_bath_table', 'home_confort') 43\n",
      "('furniture_decor', 'housewares') 24\n",
      "('housewares', 'bed_bath_table') 20\n",
      "('cool_stuff', 'baby') 20\n",
      "('baby', 'toys') 19\n",
      "('furniture_decor', 'garden_tools') 17\n",
      "('bed_bath_table', 'baby') 17\n",
      "('housewares', nan) 14\n",
      "('health_beauty', 'sports_leisure') 14\n"
     ]
    }
   ],
   "source": [
    "count = Counter()\n",
    "\n",
    "for sublist in sold_together['product_category_name_english']:\n",
    "    count.update(Counter(combinations(sublist, 2)))\n",
    "\n",
    "for key, value in count.most_common(10):\n",
    "    print(key,value)"
   ]
  },
  {
   "cell_type": "markdown",
   "metadata": {},
   "source": [
    "We can see some pretty interesting findings here. People usually buy furniture decor together with bed & bad table. We can use these pieces of information to introduce some up-sell, cross-sell promotion in the next year. Some of the suggestions:\n",
    "- For expensive products/categories: such as furniture or bed_bath_table, we can implement cart-value promotion. For example: if customers buy products from furniture_decor categories and it surpasses a cart-threshold (for example 1000$) they'll receive a 10% OFF on their next buy for products in bed_bath_table categories.\n",
    "- For daily/cheap products, we can implement BOGO (Buy X Get Y) promotion. For example: Buy any 2 products from baby categories get a toy FOR FREE."
   ]
  },
  {
   "cell_type": "markdown",
   "metadata": {},
   "source": [
    "![Image of Yaktocat](https://i.ytimg.com/vi/Lb-6xQKL7UQ/maxresdefault.jpg)"
   ]
  },
  {
   "cell_type": "markdown",
   "metadata": {},
   "source": [
    "#### <font color = '#ffc453'> Customers</font>"
   ]
  },
  {
   "cell_type": "markdown",
   "metadata": {},
   "source": [
    "In this section we'll answer 2 questions:\n",
    "- 1. Customer distribution by city\n",
    "- 2. Top 10 customers who pay the most\n",
    "- 3. Top customers with longest buying streak. Buying streak frequency distribution (by day). \n",
    "- 4. Which months of the year has the most buying streaks?"
   ]
  },
  {
   "cell_type": "markdown",
   "metadata": {},
   "source": [
    "Note: the relationship between customer_unique_id and customer_id (the one we'll be using to join to the orders table) is 1-to-many\n",
    "<br> A customer can have multiple customer_id, but only one customer_unique_id"
   ]
  },
  {
   "cell_type": "markdown",
   "metadata": {},
   "source": [
    "##### 1. Customer distribution by city"
   ]
  },
  {
   "cell_type": "code",
   "execution_count": 73,
   "metadata": {},
   "outputs": [],
   "source": [
    "customer_dis_by_city = \\\n",
    "customers.\\\n",
    "    drop_duplicates(subset = 'customer_unique_id').\\\n",
    "        groupby('customer_city')['customer_unique_id'].count().sort_values(ascending = False).reset_index()\n",
    "\n",
    "customer_dis_by_city.rename(columns = {'customer_unique_id':'customer_counts'}, inplace = True)"
   ]
  },
  {
   "cell_type": "code",
   "execution_count": 74,
   "metadata": {},
   "outputs": [],
   "source": [
    "customer_dis_by_city.\\\n",
    "    loc[customer_dis_by_city['customer_counts'] < customer_dis_by_city.customer_counts[4], 'customer_city'] = 'Others'\n",
    "\n",
    "customer_dis_by_city = customer_dis_by_city.groupby('customer_city')['customer_counts'].sum().sort_values(ascending = False)"
   ]
  },
  {
   "cell_type": "code",
   "execution_count": 75,
   "metadata": {},
   "outputs": [
    {
     "data": {
      "image/png": "[encoded data removed]",
      "text/plain": [
       "<Figure size 648x360 with 1 Axes>"
      ]
     },
     "metadata": {},
     "output_type": "display_data"
    }
   ],
   "source": [
    "plt.pie(customer_dis_by_city, labels = customer_dis_by_city.index, autopct='%1.1f%%')\n",
    "plt.title('Number of customers by cities');"
   ]
  },
  {
   "cell_type": "markdown",
   "metadata": {},
   "source": [
    "##### 2. Top 10 customers who pay the most"
   ]
  },
  {
   "cell_type": "code",
   "execution_count": 76,
   "metadata": {},
   "outputs": [],
   "source": [
    "rev_made_freq = order_items.merge(orders[['order_id','customer_id']], how = 'inner' , on = 'order_id')\\\n",
    "    .merge(customers[['customer_id','customer_unique_id']], how = 'inner', on = 'customer_id')"
   ]
  },
  {
   "cell_type": "code",
   "execution_count": 77,
   "metadata": {},
   "outputs": [],
   "source": [
    "rev_made_freq = rev_made_freq.groupby('customer_unique_id')['price'].sum().sort_values(ascending = False)"
   ]
  },
  {
   "cell_type": "code",
   "execution_count": 78,
   "metadata": {},
   "outputs": [],
   "source": [
    "top_rev_made_freq = rev_made_freq.head(10)"
   ]
  },
  {
   "cell_type": "code",
   "execution_count": 79,
   "metadata": {},
   "outputs": [
    {
     "data": {
      "image/png": "[encoded data removed]",
      "text/plain": [
       "<Figure size 648x360 with 1 Axes>"
      ]
     },
     "metadata": {},
     "output_type": "display_data"
    }
   ],
   "source": [
    "sns.barplot(top_rev_made_freq, top_rev_made_freq.index)\n",
    "plt.xlabel('Amount Spent')\n",
    "plt.title('Top 10 customers who pay the most')\n",
    "for i,v in enumerate(top_rev_made_freq):\n",
    "    plt.text(v,i,str(v));"
   ]
  },
  {
   "cell_type": "code",
   "execution_count": 80,
   "metadata": {},
   "outputs": [
    {
     "data": {
      "text/plain": [
       "count    95419.000000\n",
       "mean       142.440276\n",
       "std        217.657494\n",
       "min          0.850000\n",
       "25%         47.900000\n",
       "50%         89.900000\n",
       "75%        155.000000\n",
       "max      13440.000000\n",
       "Name: price, dtype: float64"
      ]
     },
     "execution_count": 80,
     "metadata": {},
     "output_type": "execute_result"
    }
   ],
   "source": [
    "rev_made_freq.describe()"
   ]
  },
  {
   "cell_type": "markdown",
   "metadata": {},
   "source": [
    "##### 3. Customers with longest buying streak in 2018. Buying streak frequency distribution (by day)"
   ]
  },
  {
   "cell_type": "code",
   "execution_count": 81,
   "metadata": {},
   "outputs": [],
   "source": [
    "df = orders[['customer_id','order_approved_at']].\\\n",
    "    merge(customers[['customer_id','customer_unique_id']], how = 'inner', on ='customer_id')\n",
    "df = df[pd.to_datetime(df['order_approved_at']).dt.year == 2018]"
   ]
  },
  {
   "cell_type": "code",
   "execution_count": 82,
   "metadata": {},
   "outputs": [],
   "source": [
    "df['order_approved_at'] = pd.to_datetime(df['order_approved_at']).dt.date\n",
    "df['order_approved_at'] = df['order_approved_at'].astype('datetime64')\n",
    "df['rank'] = df['order_approved_at'].rank(method='dense').astype('int')"
   ]
  },
  {
   "cell_type": "code",
   "execution_count": 83,
   "metadata": {},
   "outputs": [],
   "source": [
    "df['group'] = pd.to_datetime(df['order_approved_at']).dt.month.astype('int')*pd.to_datetime(df['order_approved_at']).dt.day.astype('int')\\\n",
    "    - df['rank']"
   ]
  },
  {
   "cell_type": "code",
   "execution_count": 84,
   "metadata": {},
   "outputs": [],
   "source": [
    "buying_streak = df.groupby(['customer_unique_id','group'])['order_approved_at'].agg(['min','max'])\n",
    "buying_streak.rename(columns = {'min':'buying_streak_start_date','max':'buying_streak_end_date'}, inplace = True)"
   ]
  },
  {
   "cell_type": "markdown",
   "metadata": {},
   "source": [
    "In this question I use a method called TABIBITOSAN to do sequence grouping. For more information kindly visit this article: https://community.oracle.com/tech/developers/discussion/1007478/tabibitosan-method-tutorial-by-aketi-jyuuzou"
   ]
  },
  {
   "cell_type": "markdown",
   "metadata": {},
   "source": [
    "Buying streak distribution in the year 2018"
   ]
  },
  {
   "cell_type": "code",
   "execution_count": 85,
   "metadata": {},
   "outputs": [],
   "source": [
    "buying_streak['streak_count'] = buying_streak['buying_streak_end_date'] - buying_streak['buying_streak_start_date'] + pd.Timedelta(\"1 days\")"
   ]
  },
  {
   "cell_type": "code",
   "execution_count": 86,
   "metadata": {},
   "outputs": [
    {
     "data": {
      "text/plain": [
       "count                        53423\n",
       "mean     1 days 00:17:55.491829361\n",
       "std      0 days 23:51:23.115610871\n",
       "min                1 days 00:00:00\n",
       "25%                1 days 00:00:00\n",
       "50%                1 days 00:00:00\n",
       "75%                1 days 00:00:00\n",
       "max              168 days 00:00:00\n",
       "Name: streak_count, dtype: object"
      ]
     },
     "execution_count": 86,
     "metadata": {},
     "output_type": "execute_result"
    }
   ],
   "source": [
    "buying_streak['streak_count'].describe()"
   ]
  },
  {
   "cell_type": "markdown",
   "metadata": {},
   "source": [
    "All buying streaks in the year 2018, sort by longest to shortest (doesn't count 1 day streak)"
   ]
  },
  {
   "cell_type": "code",
   "execution_count": 87,
   "metadata": {},
   "outputs": [
    {
     "data": {
      "text/html": [
       "<div>\n",
       "<style scoped>\n",
       "    .dataframe tbody tr th:only-of-type {\n",
       "        vertical-align: middle;\n",
       "    }\n",
       "\n",
       "    .dataframe tbody tr th {\n",
       "        vertical-align: top;\n",
       "    }\n",
       "\n",
       "    .dataframe thead th {\n",
       "        text-align: right;\n",
       "    }\n",
       "</style>\n",
       "<table border=\"1\" class=\"dataframe\">\n",
       "  <thead>\n",
       "    <tr style=\"text-align: right;\">\n",
       "      <th></th>\n",
       "      <th></th>\n",
       "      <th>buying_streak_start_date</th>\n",
       "      <th>buying_streak_end_date</th>\n",
       "      <th>streak_count</th>\n",
       "    </tr>\n",
       "    <tr>\n",
       "      <th>customer_unique_id</th>\n",
       "      <th>group</th>\n",
       "      <th></th>\n",
       "      <th></th>\n",
       "      <th></th>\n",
       "    </tr>\n",
       "  </thead>\n",
       "  <tbody>\n",
       "    <tr>\n",
       "      <th>91352e06066eef42b60b24049ccde4fd</th>\n",
       "      <th>-39</th>\n",
       "      <td>2018-03-10</td>\n",
       "      <td>2018-08-24</td>\n",
       "      <td>168 days</td>\n",
       "    </tr>\n",
       "    <tr>\n",
       "      <th>88c11a241bcbd239da19623bb23891a9</th>\n",
       "      <th>-33</th>\n",
       "      <td>2018-03-13</td>\n",
       "      <td>2018-07-24</td>\n",
       "      <td>134 days</td>\n",
       "    </tr>\n",
       "    <tr>\n",
       "      <th>ed917c786a8a3e411eae87aeca27cb27</th>\n",
       "      <th>-113</th>\n",
       "      <td>2018-05-01</td>\n",
       "      <td>2018-06-07</td>\n",
       "      <td>38 days</td>\n",
       "    </tr>\n",
       "    <tr>\n",
       "      <th>fd8ccc89be43894d2553494c71a61fd8</th>\n",
       "      <th>-33</th>\n",
       "      <td>2018-03-13</td>\n",
       "      <td>2018-04-19</td>\n",
       "      <td>38 days</td>\n",
       "    </tr>\n",
       "    <tr>\n",
       "      <th>ddeb6f3566dcf17cb455271ac103a73f</th>\n",
       "      <th>0</th>\n",
       "      <td>2018-01-02</td>\n",
       "      <td>2018-01-31</td>\n",
       "      <td>30 days</td>\n",
       "    </tr>\n",
       "    <tr>\n",
       "      <th>6f36e0165218ac7ae521d8e44739e703</th>\n",
       "      <th>0</th>\n",
       "      <td>2018-01-02</td>\n",
       "      <td>2018-01-26</td>\n",
       "      <td>25 days</td>\n",
       "    </tr>\n",
       "    <tr>\n",
       "      <th>2c3ed77b92cba1f5622b5ccaa1792b8b</th>\n",
       "      <th>0</th>\n",
       "      <td>2018-01-04</td>\n",
       "      <td>2018-01-27</td>\n",
       "      <td>24 days</td>\n",
       "    </tr>\n",
       "    <tr>\n",
       "      <th>827b19392982299876c0aca1f92208c2</th>\n",
       "      <th>0</th>\n",
       "      <td>2018-01-04</td>\n",
       "      <td>2018-01-24</td>\n",
       "      <td>21 days</td>\n",
       "    </tr>\n",
       "    <tr>\n",
       "      <th>527c6fbbe85cdf78ff1645e0a71e266f</th>\n",
       "      <th>0</th>\n",
       "      <td>2018-01-04</td>\n",
       "      <td>2018-01-23</td>\n",
       "      <td>20 days</td>\n",
       "    </tr>\n",
       "    <tr>\n",
       "      <th>d7e0432688bbd72d3567568903f6117c</th>\n",
       "      <th>0</th>\n",
       "      <td>2018-01-13</td>\n",
       "      <td>2018-01-31</td>\n",
       "      <td>19 days</td>\n",
       "    </tr>\n",
       "  </tbody>\n",
       "</table>\n",
       "</div>"
      ],
      "text/plain": [
       "                                       buying_streak_start_date  \\\n",
       "customer_unique_id               group                            \n",
       "91352e06066eef42b60b24049ccde4fd -39                 2018-03-10   \n",
       "88c11a241bcbd239da19623bb23891a9 -33                 2018-03-13   \n",
       "ed917c786a8a3e411eae87aeca27cb27 -113                2018-05-01   \n",
       "fd8ccc89be43894d2553494c71a61fd8 -33                 2018-03-13   \n",
       "ddeb6f3566dcf17cb455271ac103a73f  0                  2018-01-02   \n",
       "6f36e0165218ac7ae521d8e44739e703  0                  2018-01-02   \n",
       "2c3ed77b92cba1f5622b5ccaa1792b8b  0                  2018-01-04   \n",
       "827b19392982299876c0aca1f92208c2  0                  2018-01-04   \n",
       "527c6fbbe85cdf78ff1645e0a71e266f  0                  2018-01-04   \n",
       "d7e0432688bbd72d3567568903f6117c  0                  2018-01-13   \n",
       "\n",
       "                                       buying_streak_end_date streak_count  \n",
       "customer_unique_id               group                                      \n",
       "91352e06066eef42b60b24049ccde4fd -39               2018-08-24     168 days  \n",
       "88c11a241bcbd239da19623bb23891a9 -33               2018-07-24     134 days  \n",
       "ed917c786a8a3e411eae87aeca27cb27 -113              2018-06-07      38 days  \n",
       "fd8ccc89be43894d2553494c71a61fd8 -33               2018-04-19      38 days  \n",
       "ddeb6f3566dcf17cb455271ac103a73f  0                2018-01-31      30 days  \n",
       "6f36e0165218ac7ae521d8e44739e703  0                2018-01-26      25 days  \n",
       "2c3ed77b92cba1f5622b5ccaa1792b8b  0                2018-01-27      24 days  \n",
       "827b19392982299876c0aca1f92208c2  0                2018-01-24      21 days  \n",
       "527c6fbbe85cdf78ff1645e0a71e266f  0                2018-01-23      20 days  \n",
       "d7e0432688bbd72d3567568903f6117c  0                2018-01-31      19 days  "
      ]
     },
     "execution_count": 87,
     "metadata": {},
     "output_type": "execute_result"
    }
   ],
   "source": [
    "mask = buying_streak['buying_streak_end_date'] > buying_streak['buying_streak_start_date']\n",
    "has_streak = buying_streak[mask]\\\n",
    "    .sort_values('streak_count', ascending = False)\n",
    "has_streak.head(10)"
   ]
  },
  {
   "cell_type": "markdown",
   "metadata": {},
   "source": [
    "Top 10 customers with highest buying streak"
   ]
  },
  {
   "cell_type": "code",
   "execution_count": 88,
   "metadata": {},
   "outputs": [
    {
     "data": {
      "text/html": [
       "<div>\n",
       "<style scoped>\n",
       "    .dataframe tbody tr th:only-of-type {\n",
       "        vertical-align: middle;\n",
       "    }\n",
       "\n",
       "    .dataframe tbody tr th {\n",
       "        vertical-align: top;\n",
       "    }\n",
       "\n",
       "    .dataframe thead th {\n",
       "        text-align: right;\n",
       "    }\n",
       "</style>\n",
       "<table border=\"1\" class=\"dataframe\">\n",
       "  <thead>\n",
       "    <tr style=\"text-align: right;\">\n",
       "      <th></th>\n",
       "      <th></th>\n",
       "      <th>buying_streak_start_date</th>\n",
       "      <th>buying_streak_end_date</th>\n",
       "      <th>streak_count</th>\n",
       "    </tr>\n",
       "    <tr>\n",
       "      <th>customer_unique_id</th>\n",
       "      <th>group</th>\n",
       "      <th></th>\n",
       "      <th></th>\n",
       "      <th></th>\n",
       "    </tr>\n",
       "  </thead>\n",
       "  <tbody>\n",
       "    <tr>\n",
       "      <th>91352e06066eef42b60b24049ccde4fd</th>\n",
       "      <th>-39</th>\n",
       "      <td>2018-03-10</td>\n",
       "      <td>2018-08-24</td>\n",
       "      <td>168 days</td>\n",
       "    </tr>\n",
       "    <tr>\n",
       "      <th>88c11a241bcbd239da19623bb23891a9</th>\n",
       "      <th>-33</th>\n",
       "      <td>2018-03-13</td>\n",
       "      <td>2018-07-24</td>\n",
       "      <td>134 days</td>\n",
       "    </tr>\n",
       "    <tr>\n",
       "      <th>ed917c786a8a3e411eae87aeca27cb27</th>\n",
       "      <th>-113</th>\n",
       "      <td>2018-05-01</td>\n",
       "      <td>2018-06-07</td>\n",
       "      <td>38 days</td>\n",
       "    </tr>\n",
       "    <tr>\n",
       "      <th>fd8ccc89be43894d2553494c71a61fd8</th>\n",
       "      <th>-33</th>\n",
       "      <td>2018-03-13</td>\n",
       "      <td>2018-04-19</td>\n",
       "      <td>38 days</td>\n",
       "    </tr>\n",
       "    <tr>\n",
       "      <th>ddeb6f3566dcf17cb455271ac103a73f</th>\n",
       "      <th>0</th>\n",
       "      <td>2018-01-02</td>\n",
       "      <td>2018-01-31</td>\n",
       "      <td>30 days</td>\n",
       "    </tr>\n",
       "    <tr>\n",
       "      <th>6f36e0165218ac7ae521d8e44739e703</th>\n",
       "      <th>0</th>\n",
       "      <td>2018-01-02</td>\n",
       "      <td>2018-01-26</td>\n",
       "      <td>25 days</td>\n",
       "    </tr>\n",
       "    <tr>\n",
       "      <th>2c3ed77b92cba1f5622b5ccaa1792b8b</th>\n",
       "      <th>0</th>\n",
       "      <td>2018-01-04</td>\n",
       "      <td>2018-01-27</td>\n",
       "      <td>24 days</td>\n",
       "    </tr>\n",
       "    <tr>\n",
       "      <th>827b19392982299876c0aca1f92208c2</th>\n",
       "      <th>0</th>\n",
       "      <td>2018-01-04</td>\n",
       "      <td>2018-01-24</td>\n",
       "      <td>21 days</td>\n",
       "    </tr>\n",
       "    <tr>\n",
       "      <th>527c6fbbe85cdf78ff1645e0a71e266f</th>\n",
       "      <th>0</th>\n",
       "      <td>2018-01-04</td>\n",
       "      <td>2018-01-23</td>\n",
       "      <td>20 days</td>\n",
       "    </tr>\n",
       "    <tr>\n",
       "      <th>d7e0432688bbd72d3567568903f6117c</th>\n",
       "      <th>0</th>\n",
       "      <td>2018-01-13</td>\n",
       "      <td>2018-01-31</td>\n",
       "      <td>19 days</td>\n",
       "    </tr>\n",
       "  </tbody>\n",
       "</table>\n",
       "</div>"
      ],
      "text/plain": [
       "                                       buying_streak_start_date  \\\n",
       "customer_unique_id               group                            \n",
       "91352e06066eef42b60b24049ccde4fd -39                 2018-03-10   \n",
       "88c11a241bcbd239da19623bb23891a9 -33                 2018-03-13   \n",
       "ed917c786a8a3e411eae87aeca27cb27 -113                2018-05-01   \n",
       "fd8ccc89be43894d2553494c71a61fd8 -33                 2018-03-13   \n",
       "ddeb6f3566dcf17cb455271ac103a73f  0                  2018-01-02   \n",
       "6f36e0165218ac7ae521d8e44739e703  0                  2018-01-02   \n",
       "2c3ed77b92cba1f5622b5ccaa1792b8b  0                  2018-01-04   \n",
       "827b19392982299876c0aca1f92208c2  0                  2018-01-04   \n",
       "527c6fbbe85cdf78ff1645e0a71e266f  0                  2018-01-04   \n",
       "d7e0432688bbd72d3567568903f6117c  0                  2018-01-13   \n",
       "\n",
       "                                       buying_streak_end_date streak_count  \n",
       "customer_unique_id               group                                      \n",
       "91352e06066eef42b60b24049ccde4fd -39               2018-08-24     168 days  \n",
       "88c11a241bcbd239da19623bb23891a9 -33               2018-07-24     134 days  \n",
       "ed917c786a8a3e411eae87aeca27cb27 -113              2018-06-07      38 days  \n",
       "fd8ccc89be43894d2553494c71a61fd8 -33               2018-04-19      38 days  \n",
       "ddeb6f3566dcf17cb455271ac103a73f  0                2018-01-31      30 days  \n",
       "6f36e0165218ac7ae521d8e44739e703  0                2018-01-26      25 days  \n",
       "2c3ed77b92cba1f5622b5ccaa1792b8b  0                2018-01-27      24 days  \n",
       "827b19392982299876c0aca1f92208c2  0                2018-01-24      21 days  \n",
       "527c6fbbe85cdf78ff1645e0a71e266f  0                2018-01-23      20 days  \n",
       "d7e0432688bbd72d3567568903f6117c  0                2018-01-31      19 days  "
      ]
     },
     "execution_count": 88,
     "metadata": {},
     "output_type": "execute_result"
    }
   ],
   "source": [
    "mask = has_streak.groupby('customer_unique_id')['streak_count'].transform('max') == has_streak['streak_count']\n",
    "has_streak[mask].head(10)"
   ]
  },
  {
   "cell_type": "markdown",
   "metadata": {},
   "source": [
    "##### 4. Which month of the year has the most buying streaks?"
   ]
  },
  {
   "cell_type": "code",
   "execution_count": 89,
   "metadata": {},
   "outputs": [
    {
     "data": {
      "text/plain": [
       "1    30\n",
       "3     3\n",
       "5     1\n",
       "Name: buying_streak_start_date, dtype: int64"
      ]
     },
     "execution_count": 89,
     "metadata": {},
     "output_type": "execute_result"
    }
   ],
   "source": [
    "streak_by_month = pd.to_datetime(has_streak['buying_streak_start_date']).dt.month.value_counts()\n",
    "streak_by_month"
   ]
  },
  {
   "cell_type": "code",
   "execution_count": 90,
   "metadata": {},
   "outputs": [
    {
     "data": {
      "image/png": "[encoded data removed]",
      "text/plain": [
       "<Figure size 648x360 with 1 Axes>"
      ]
     },
     "metadata": {},
     "output_type": "display_data"
    }
   ],
   "source": [
    "sns.barplot(streak_by_month.index,streak_by_month)\n",
    "for i,v in enumerate(streak_by_month):\n",
    "    plt.text(i,v + 1,str(v))\n",
    "plt.title('buying streaks by month');"
   ]
  },
  {
   "cell_type": "markdown",
   "metadata": {},
   "source": [
    "We can see that most of the buying streaks start in January."
   ]
  },
  {
   "cell_type": "markdown",
   "metadata": {},
   "source": [
    "=> Suggestion: apply loyalty program in January to encourage even more customers to purchase repeatedly. Loyalty programs come in many forms, ranging from simple stamp cards to sophisticated, point-based reward systems."
   ]
  },
  {
   "cell_type": "markdown",
   "metadata": {},
   "source": [
    "![Image of Yaktocat](https://cdn.shortpixel.ai/spai/q_glossy+w_961+to_auto+ret_img/https://www.webhostingsecretrevealed.net/wp-content/uploads/loyalty-program.png)"
   ]
  },
  {
   "cell_type": "markdown",
   "metadata": {},
   "source": [
    "#### <font color = '#ffc453'> Order payments</font>"
   ]
  },
  {
   "cell_type": "markdown",
   "metadata": {},
   "source": [
    "In this section, we'll answer these questions below:\n",
    "- 1. What's the preferrable method of payment?\n",
    "- 2. One time payment and installment payment proportion?\n",
    "- 3. How many orders haven't been fully paid yet?"
   ]
  },
  {
   "cell_type": "markdown",
   "metadata": {},
   "source": [
    "##### 1. What's the preferrable method of payment?"
   ]
  },
  {
   "cell_type": "code",
   "execution_count": 91,
   "metadata": {},
   "outputs": [],
   "source": [
    "payments = order_payments['payment_type'].value_counts()"
   ]
  },
  {
   "cell_type": "code",
   "execution_count": 92,
   "metadata": {},
   "outputs": [
    {
     "data": {
      "image/png": "[encoded data removed]",
      "text/plain": [
       "<Figure size 648x360 with 1 Axes>"
      ]
     },
     "metadata": {},
     "output_type": "display_data"
    }
   ],
   "source": [
    "sns.barplot(payments.index, payments)\n",
    "plt.title('Method of payments count')\n",
    "for i,v in enumerate(payments):\n",
    "    plt.text(i,v + 1000,str(v));"
   ]
  },
  {
   "cell_type": "markdown",
   "metadata": {},
   "source": [
    "##### 2. One time payment and installment payment proportion"
   ]
  },
  {
   "cell_type": "code",
   "execution_count": 173,
   "metadata": {},
   "outputs": [],
   "source": [
    "installment_proportion = orders.merge(order_payments[['order_id','payment_installments']], how = 'inner', on ='order_id')"
   ]
  },
  {
   "cell_type": "code",
   "execution_count": 176,
   "metadata": {},
   "outputs": [],
   "source": [
    "installment_proportion['type_of_payment'] = \\\n",
    "    ['one time payment' if x == 1 else 'installments payment' for x in installment_proportion['payment_installments']]"
   ]
  },
  {
   "cell_type": "code",
   "execution_count": 179,
   "metadata": {},
   "outputs": [],
   "source": [
    "installment_proportion = installment_proportion['type_of_payment'].value_counts()"
   ]
  },
  {
   "cell_type": "code",
   "execution_count": 181,
   "metadata": {},
   "outputs": [
    {
     "data": {
      "image/png": "[encoded data removed]",
      "text/plain": [
       "<Figure size 648x360 with 1 Axes>"
      ]
     },
     "metadata": {},
     "output_type": "display_data"
    }
   ],
   "source": [
    "plt.pie(installment_proportion, labels = installment_proportion.index, autopct = '%1.1f%%');"
   ]
  },
  {
   "cell_type": "markdown",
   "metadata": {},
   "source": [
    "##### 3. How many orders haven't been fully paid yet?"
   ]
  },
  {
   "cell_type": "code",
   "execution_count": 164,
   "metadata": {},
   "outputs": [],
   "source": [
    "payment_made_by_order = order_payments.groupby('order_id')['payment_value'].sum().reset_index()"
   ]
  },
  {
   "cell_type": "code",
   "execution_count": 165,
   "metadata": {},
   "outputs": [],
   "source": [
    "order_items['revenue'] = order_items['price'] + order_items['freight_value']\n",
    "revenue_by_order = order_items.groupby('order_id')['revenue'].sum().reset_index()"
   ]
  },
  {
   "cell_type": "code",
   "execution_count": 166,
   "metadata": {},
   "outputs": [],
   "source": [
    "## Due to some unexpected behavior of Python when performing subtraction of float, we'll need to create a diff column and perform floor on it\n",
    "revenue_and_payment_comparision = revenue_by_order.merge(payment_made_by_order, how = 'inner', on ='order_id')\n",
    "revenue_and_payment_comparision['diff'] = revenue_and_payment_comparision['revenue'] - revenue_and_payment_comparision['payment_value']\n",
    "revenue_and_payment_comparision['diff'] = revenue_and_payment_comparision['diff'].apply(np.floor)"
   ]
  },
  {
   "cell_type": "code",
   "execution_count": 167,
   "metadata": {},
   "outputs": [],
   "source": [
    "revenue_and_payment_comparision['classify'] = \\\n",
    "    ['fully paid' if x <= 0 else 'not fully paid' for x in revenue_and_payment_comparision['diff']]"
   ]
  },
  {
   "cell_type": "code",
   "execution_count": 168,
   "metadata": {},
   "outputs": [
    {
     "data": {
      "text/plain": [
       "fully paid        98647\n",
       "not fully paid       18\n",
       "Name: classify, dtype: int64"
      ]
     },
     "execution_count": 168,
     "metadata": {},
     "output_type": "execute_result"
    }
   ],
   "source": [
    "revenue_and_payment_comparision['classify'].value_counts()"
   ]
  },
  {
   "cell_type": "code",
   "execution_count": 169,
   "metadata": {},
   "outputs": [
    {
     "data": {
      "text/html": [
       "<div>\n",
       "<style scoped>\n",
       "    .dataframe tbody tr th:only-of-type {\n",
       "        vertical-align: middle;\n",
       "    }\n",
       "\n",
       "    .dataframe tbody tr th {\n",
       "        vertical-align: top;\n",
       "    }\n",
       "\n",
       "    .dataframe thead th {\n",
       "        text-align: right;\n",
       "    }\n",
       "</style>\n",
       "<table border=\"1\" class=\"dataframe\">\n",
       "  <thead>\n",
       "    <tr style=\"text-align: right;\">\n",
       "      <th></th>\n",
       "      <th>order_id</th>\n",
       "      <th>revenue</th>\n",
       "      <th>payment_value</th>\n",
       "      <th>diff</th>\n",
       "      <th>classify</th>\n",
       "    </tr>\n",
       "  </thead>\n",
       "  <tbody>\n",
       "    <tr>\n",
       "      <th>1972</th>\n",
       "      <td>051fcda88d997d3ff86012da2a556342</td>\n",
       "      <td>56.60</td>\n",
       "      <td>51.70</td>\n",
       "      <td>4.0</td>\n",
       "      <td>not fully paid</td>\n",
       "    </tr>\n",
       "    <tr>\n",
       "      <th>5533</th>\n",
       "      <td>0e556f5eafbf3eb399290101b183b10e</td>\n",
       "      <td>95.66</td>\n",
       "      <td>81.90</td>\n",
       "      <td>13.0</td>\n",
       "      <td>not fully paid</td>\n",
       "    </tr>\n",
       "    <tr>\n",
       "      <th>14628</th>\n",
       "      <td>262118ce178bb3e4590a3adcf6d62e6b</td>\n",
       "      <td>177.74</td>\n",
       "      <td>126.12</td>\n",
       "      <td>51.0</td>\n",
       "      <td>not fully paid</td>\n",
       "    </tr>\n",
       "    <tr>\n",
       "      <th>19196</th>\n",
       "      <td>320dcf288de15e4ff06ebbfce4e42c78</td>\n",
       "      <td>87.55</td>\n",
       "      <td>81.37</td>\n",
       "      <td>6.0</td>\n",
       "      <td>not fully paid</td>\n",
       "    </tr>\n",
       "    <tr>\n",
       "      <th>25102</th>\n",
       "      <td>4154bf1348caac78152fe76e3e9c4af8</td>\n",
       "      <td>165.26</td>\n",
       "      <td>150.27</td>\n",
       "      <td>14.0</td>\n",
       "      <td>not fully paid</td>\n",
       "    </tr>\n",
       "    <tr>\n",
       "      <th>25960</th>\n",
       "      <td>4387477eec4b3c89b39f3f454940d059</td>\n",
       "      <td>231.92</td>\n",
       "      <td>222.02</td>\n",
       "      <td>9.0</td>\n",
       "      <td>not fully paid</td>\n",
       "    </tr>\n",
       "    <tr>\n",
       "      <th>41989</th>\n",
       "      <td>6cff0c3dacf64bb7cb2ad584b81b7d0d</td>\n",
       "      <td>33.43</td>\n",
       "      <td>30.83</td>\n",
       "      <td>2.0</td>\n",
       "      <td>not fully paid</td>\n",
       "    </tr>\n",
       "    <tr>\n",
       "      <th>42292</th>\n",
       "      <td>6dcf0aeb8b1eb4021c26e1d0e9394979</td>\n",
       "      <td>333.92</td>\n",
       "      <td>318.97</td>\n",
       "      <td>14.0</td>\n",
       "      <td>not fully paid</td>\n",
       "    </tr>\n",
       "    <tr>\n",
       "      <th>42504</th>\n",
       "      <td>6e57e23ecac1ae881286657694444267</td>\n",
       "      <td>350.41</td>\n",
       "      <td>333.91</td>\n",
       "      <td>16.0</td>\n",
       "      <td>not fully paid</td>\n",
       "    </tr>\n",
       "    <tr>\n",
       "      <th>43011</th>\n",
       "      <td>6fa0c125ee7d870f6602c97e33d87bc5</td>\n",
       "      <td>47.31</td>\n",
       "      <td>45.71</td>\n",
       "      <td>1.0</td>\n",
       "      <td>not fully paid</td>\n",
       "    </tr>\n",
       "    <tr>\n",
       "      <th>49461</th>\n",
       "      <td>8092da256aefda13b330290d2ca86521</td>\n",
       "      <td>115.65</td>\n",
       "      <td>105.26</td>\n",
       "      <td>10.0</td>\n",
       "      <td>not fully paid</td>\n",
       "    </tr>\n",
       "    <tr>\n",
       "      <th>52279</th>\n",
       "      <td>882634702ad671a4a28319adef8f058b</td>\n",
       "      <td>17.38</td>\n",
       "      <td>16.38</td>\n",
       "      <td>1.0</td>\n",
       "      <td>not fully paid</td>\n",
       "    </tr>\n",
       "    <tr>\n",
       "      <th>65449</th>\n",
       "      <td>aa6bd33ba1853d846d3085a88ae37083</td>\n",
       "      <td>35.14</td>\n",
       "      <td>25.14</td>\n",
       "      <td>10.0</td>\n",
       "      <td>not fully paid</td>\n",
       "    </tr>\n",
       "    <tr>\n",
       "      <th>76694</th>\n",
       "      <td>c6f6cbb3c845593222d5c594bb69c5fd</td>\n",
       "      <td>113.33</td>\n",
       "      <td>104.34</td>\n",
       "      <td>8.0</td>\n",
       "      <td>not fully paid</td>\n",
       "    </tr>\n",
       "    <tr>\n",
       "      <th>77372</th>\n",
       "      <td>c8bedae351d76a3163c9840172c1285f</td>\n",
       "      <td>37.37</td>\n",
       "      <td>34.38</td>\n",
       "      <td>2.0</td>\n",
       "      <td>not fully paid</td>\n",
       "    </tr>\n",
       "    <tr>\n",
       "      <th>89223</th>\n",
       "      <td>e73fe43cdcd166f7f0c6e3c2bf11a917</td>\n",
       "      <td>59.00</td>\n",
       "      <td>56.50</td>\n",
       "      <td>2.0</td>\n",
       "      <td>not fully paid</td>\n",
       "    </tr>\n",
       "    <tr>\n",
       "      <th>91468</th>\n",
       "      <td>ed4116f3f55e67e9a26b9f1891ba2497</td>\n",
       "      <td>161.47</td>\n",
       "      <td>157.57</td>\n",
       "      <td>3.0</td>\n",
       "      <td>not fully paid</td>\n",
       "    </tr>\n",
       "    <tr>\n",
       "      <th>97605</th>\n",
       "      <td>fd33085945f15975375cd8ec85440511</td>\n",
       "      <td>234.62</td>\n",
       "      <td>212.82</td>\n",
       "      <td>21.0</td>\n",
       "      <td>not fully paid</td>\n",
       "    </tr>\n",
       "  </tbody>\n",
       "</table>\n",
       "</div>"
      ],
      "text/plain": [
       "                               order_id  revenue  payment_value  diff  \\\n",
       "1972   051fcda88d997d3ff86012da2a556342    56.60          51.70   4.0   \n",
       "5533   0e556f5eafbf3eb399290101b183b10e    95.66          81.90  13.0   \n",
       "14628  262118ce178bb3e4590a3adcf6d62e6b   177.74         126.12  51.0   \n",
       "19196  320dcf288de15e4ff06ebbfce4e42c78    87.55          81.37   6.0   \n",
       "25102  4154bf1348caac78152fe76e3e9c4af8   165.26         150.27  14.0   \n",
       "25960  4387477eec4b3c89b39f3f454940d059   231.92         222.02   9.0   \n",
       "41989  6cff0c3dacf64bb7cb2ad584b81b7d0d    33.43          30.83   2.0   \n",
       "42292  6dcf0aeb8b1eb4021c26e1d0e9394979   333.92         318.97  14.0   \n",
       "42504  6e57e23ecac1ae881286657694444267   350.41         333.91  16.0   \n",
       "43011  6fa0c125ee7d870f6602c97e33d87bc5    47.31          45.71   1.0   \n",
       "49461  8092da256aefda13b330290d2ca86521   115.65         105.26  10.0   \n",
       "52279  882634702ad671a4a28319adef8f058b    17.38          16.38   1.0   \n",
       "65449  aa6bd33ba1853d846d3085a88ae37083    35.14          25.14  10.0   \n",
       "76694  c6f6cbb3c845593222d5c594bb69c5fd   113.33         104.34   8.0   \n",
       "77372  c8bedae351d76a3163c9840172c1285f    37.37          34.38   2.0   \n",
       "89223  e73fe43cdcd166f7f0c6e3c2bf11a917    59.00          56.50   2.0   \n",
       "91468  ed4116f3f55e67e9a26b9f1891ba2497   161.47         157.57   3.0   \n",
       "97605  fd33085945f15975375cd8ec85440511   234.62         212.82  21.0   \n",
       "\n",
       "             classify  \n",
       "1972   not fully paid  \n",
       "5533   not fully paid  \n",
       "14628  not fully paid  \n",
       "19196  not fully paid  \n",
       "25102  not fully paid  \n",
       "25960  not fully paid  \n",
       "41989  not fully paid  \n",
       "42292  not fully paid  \n",
       "42504  not fully paid  \n",
       "43011  not fully paid  \n",
       "49461  not fully paid  \n",
       "52279  not fully paid  \n",
       "65449  not fully paid  \n",
       "76694  not fully paid  \n",
       "77372  not fully paid  \n",
       "89223  not fully paid  \n",
       "91468  not fully paid  \n",
       "97605  not fully paid  "
      ]
     },
     "execution_count": 169,
     "metadata": {},
     "output_type": "execute_result"
    }
   ],
   "source": [
    "revenue_and_payment_comparision.query('classify == \"not fully paid\"')"
   ]
  },
  {
   "cell_type": "markdown",
   "metadata": {},
   "source": [
    "Only 18/98665 orders are not fully paid."
   ]
  },
  {
   "cell_type": "markdown",
   "metadata": {},
   "source": [
    "# Conclusion <a class=\"anchor\" id=\"fifth-bullet\"></a>"
   ]
  },
  {
   "cell_type": "markdown",
   "metadata": {},
   "source": [
    "Some suggestions for the business:\n",
    "- The company should really consider switching to another carrier & service provider\n",
    "- Should have local warehouses on strategic locations:sao paulo and rio dejaneiro\n",
    "- Reduce the time to response to negative reviews. Set up bot to automatically answer to negative reviews\n",
    "- Focus on categories with high growth-rate: small_appliances_home_oven_and_cofffee and constrution_tools_flight\n",
    "- Apply up-sell, cross-sell with products from categories that are frequently bought together (furniture_decore and bed_bath_table):\n",
    "    + For expensive products/categories: such as furniture or bed_bath_table, we can implement cart-value promotion. For example: if customers buy products from furniture_decor categories and it surpasses a cart-threshold (for example 1000$) they'll receive a 10% OFF on their next buy for products in bed_bath_table categories.\n",
    "    + For daily/cheap products, we can implement BOGO (Buy X Get Y) promotion. For example: Buy any 2 products from baby categories get a toy FOR FREE.\n",
    "- Apply loyalty program in January to encourage even more customers to purchase repeatedly. Loyalty programs come in many forms, ranging from simple stamp cards to sophisticated, point-based reward systems."
   ]
  }
 ],
 "metadata": {
  "kernelspec": {
   "display_name": "Python 3.9.7 ('base')",
   "language": "python",
   "name": "python3"
  },
  "language_info": {
   "codemirror_mode": {
    "name": "ipython",
    "version": 3
   },
   "file_extension": ".py",
   "mimetype": "text/x-python",
   "name": "python",
   "nbconvert_exporter": "python",
   "pygments_lexer": "ipython3",
   "version": "3.9.7"
  },
  "orig_nbformat": 4,
  "vscode": {
   "interpreter": {
    "hash": "d5b8e28862618f4ef80ce75cf08533031fd22bf29d789b69ae43ccdf1554ed53"
   }
  }
 },
 "nbformat": 4,
 "nbformat_minor": 2
}
